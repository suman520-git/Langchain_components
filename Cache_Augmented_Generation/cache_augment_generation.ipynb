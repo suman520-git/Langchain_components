{
 "cells": [
  {
   "cell_type": "code",
   "execution_count": 45,
   "id": "710e4e94",
   "metadata": {},
   "outputs": [],
   "source": [
    "import os\n",
    "from dotenv import load_dotenv"
   ]
  },
  {
   "cell_type": "code",
   "execution_count": 46,
   "id": "181c1e89",
   "metadata": {},
   "outputs": [
    {
     "data": {
      "text/plain": [
       "True"
      ]
     },
     "execution_count": 46,
     "metadata": {},
     "output_type": "execute_result"
    }
   ],
   "source": [
    "load_dotenv()"
   ]
  },
  {
   "cell_type": "code",
   "execution_count": 47,
   "id": "2bee5539",
   "metadata": {},
   "outputs": [],
   "source": [
    "os.environ[\"GROQ_API_KEY\"] = os.getenv(\"GROQ_API_KEY\")"
   ]
  },
  {
   "cell_type": "code",
   "execution_count": 48,
   "id": "d65d44f4",
   "metadata": {},
   "outputs": [],
   "source": [
    "from langchain_groq import ChatGroq\n",
    "llm = ChatGroq(model=\"llama3-70b-8192\")"
   ]
  },
  {
   "cell_type": "code",
   "execution_count": 49,
   "id": "792ffc96",
   "metadata": {},
   "outputs": [],
   "source": [
    "# Wrap with cache\n",
    "Model_Cache = {}"
   ]
  },
  {
   "cell_type": "code",
   "execution_count": 50,
   "id": "6567a7ab",
   "metadata": {},
   "outputs": [],
   "source": [
    "import time\n",
    "def cached_model(query):\n",
    "    start_time = time.time()\n",
    "    if Model_Cache.get(query):\n",
    "        print(\"***CACHE HIT***\")\n",
    "        end_time = time.time()\n",
    "        elapsed = end_time - start_time\n",
    "        print(f\"EXECUTION TIME: {elapsed:.2f} seconds\")\n",
    "        return Model_Cache.get(query)\n",
    "    else:\n",
    "        print(\"***CACHE MISS – EXECUTING MODEL***\")\n",
    "        start_time = time.time()\n",
    "        response = llm.invoke(query)\n",
    "        end_time = time.time()\n",
    "        elapsed = end_time - start_time\n",
    "        print(f\"EXECUTION TIME: {elapsed:.2f} seconds\")\n",
    "        Model_Cache[query] = response\n",
    "        return response"
   ]
  },
  {
   "cell_type": "code",
   "execution_count": 51,
   "id": "3feef7a0",
   "metadata": {},
   "outputs": [
    {
     "name": "stdout",
     "output_type": "stream",
     "text": [
      "***CACHE MISS – EXECUTING MODEL***\n",
      "EXECUTION TIME: 0.61 seconds\n",
      "content=\"Hi! It's nice to meet you. Is there something I can help you with or would you like to chat?\" additional_kwargs={} response_metadata={'token_usage': {'completion_tokens': 25, 'prompt_tokens': 11, 'total_tokens': 36, 'completion_time': 0.041043971, 'prompt_time': 0.010358469, 'queue_time': 0.264962757, 'total_time': 0.05140244}, 'model_name': 'llama3-70b-8192', 'system_fingerprint': 'fp_bf16903a67', 'finish_reason': 'stop', 'logprobs': None} id='run--3152846c-607f-405c-b35c-f60a9eaf02f5-0' usage_metadata={'input_tokens': 11, 'output_tokens': 25, 'total_tokens': 36}\n"
     ]
    }
   ],
   "source": [
    "query=\"hi\"\n",
    "response = cached_model(query)\n",
    "print(response)"
   ]
  },
  {
   "cell_type": "code",
   "execution_count": 52,
   "id": "d14fedbb",
   "metadata": {},
   "outputs": [
    {
     "name": "stdout",
     "output_type": "stream",
     "text": [
      "***CACHE HIT***\n",
      "EXECUTION TIME: 0.00 seconds\n",
      "content=\"Hi! It's nice to meet you. Is there something I can help you with or would you like to chat?\" additional_kwargs={} response_metadata={'token_usage': {'completion_tokens': 25, 'prompt_tokens': 11, 'total_tokens': 36, 'completion_time': 0.041043971, 'prompt_time': 0.010358469, 'queue_time': 0.264962757, 'total_time': 0.05140244}, 'model_name': 'llama3-70b-8192', 'system_fingerprint': 'fp_bf16903a67', 'finish_reason': 'stop', 'logprobs': None} id='run--3152846c-607f-405c-b35c-f60a9eaf02f5-0' usage_metadata={'input_tokens': 11, 'output_tokens': 25, 'total_tokens': 36}\n"
     ]
    }
   ],
   "source": [
    "query=\"hi\"\n",
    "response = cached_model(query)\n",
    "print(response)"
   ]
  },
  {
   "cell_type": "code",
   "execution_count": 53,
   "id": "bb68757b",
   "metadata": {},
   "outputs": [
    {
     "name": "stdout",
     "output_type": "stream",
     "text": [
      "***CACHE MISS – EXECUTING MODEL***\n",
      "EXECUTION TIME: 2.65 seconds\n",
      "content=\"Here is a 1000-word essay on independence:\\n\\nIndependence is a fundamental human right that is essential for individuals, communities, and nations to thrive. It is the freedom to make choices, live life on one's own terms, and pursue happiness without undue interference from others. Independence is not just a political concept, but a state of mind that enables people to take control of their lives, make decisions, and shape their own destiny.\\n\\nThroughout history, the struggle for independence has been a recurring theme. From the American Revolution to the Indian freedom movement, people have fought against colonialism, imperialism, and oppressive regimes to gain independence and self-determination. The desire for independence is a powerful force that has inspired countless individuals to sacrifice their lives, livelihoods, and comfort for the sake of freedom.\\n\\nOne of the most significant benefits of independence is the ability to make choices. When individuals are independent, they can decide how to live their lives, pursue their passions, and allocate their resources. They are not bound by the dictates of others, and they can chart their own course in life. This freedom to choose is essential for personal growth, creativity, and innovation. It allows people to explore new ideas, take risks, and push the boundaries of human knowledge and achievement.\\n\\nIndependence also fosters a sense of responsibility and accountability. When individuals are independent, they are more likely to take ownership of their actions and decisions. They are more accountable to themselves and others, and they are more likely to be motivated to work hard and achieve their goals. This sense of responsibility is essential for building strong, resilient communities and nations.\\n\\nIn addition to personal benefits, independence is also essential for economic development and prosperity. Independent nations can make their own economic decisions, set their own policies, and chart their own course in the global economy. They are not beholden to foreign powers or institutions, and they can pursue their own interests and priorities. This autonomy is essential for building strong, diverse economies that can provide for the needs of citizens.\\n\\nFurthermore, independence is a key factor in promoting peace and stability. When nations are independent, they are more likely to resolve their differences through diplomacy and negotiation rather than conflict and aggression. They are more likely to respect the sovereignty of other nations and to promote regional and global cooperation. This is essential for building a more peaceful and stable world, where nations can work together to address common challenges and promote mutual prosperity.\\n\\nHowever, independence is not without its challenges. It requires individuals and nations to take responsibility for their own affairs, to make difficult decisions, and to face uncertainty and risk. It requires them to be resilient, adaptable, and resourceful in the face of adversity. It also requires them to be willing to compromise, to negotiate, and to work together with others to achieve common goals.\\n\\nDespite these challenges, independence is essential for human flourishing and progress. It is a fundamental human right that is enshrined in the Universal Declaration of Human Rights and other international instruments. It is a cornerstone of democratic governance, economic development, and social justice.\\n\\nIn conclusion, independence is a vital component of human life and society. It is the freedom to make choices, to live life on one's own terms, and to pursue happiness without undue interference from others. It is essential for personal growth, creativity, and innovation, and it fosters a sense of responsibility and accountability. It is also essential for economic development, peace, and stability, and it is a key factor in promoting regional and global cooperation.\\n\\nAs we celebrate independence, we must also acknowledge the challenges and complexities that come with it. We must recognize that independence is not a fixed state, but a dynamic and ongoing process that requires effort, commitment, and sacrifice. We must also recognize that independence is not a zero-sum game, where one nation's gain is another's loss. Rather, it is a mutually beneficial and interdependent process that requires cooperation, compromise, and a commitment to the well-being of all.\\n\\nUltimately, independence is a fundamental human right that is essential for building a better world. It is a beacon of hope and freedom that inspires individuals and nations to strive for greatness, to push beyond the boundaries of human achievement, and to create a brighter future for all.\" additional_kwargs={} response_metadata={'token_usage': {'completion_tokens': 850, 'prompt_tokens': 22, 'total_tokens': 872, 'completion_time': 2.3173519000000002, 'prompt_time': 0.011030206, 'queue_time': 0.264890419, 'total_time': 2.328382106}, 'model_name': 'llama3-70b-8192', 'system_fingerprint': 'fp_bf16903a67', 'finish_reason': 'stop', 'logprobs': None} id='run--689a7349-4574-4329-8e10-64eead8c8ac8-0' usage_metadata={'input_tokens': 22, 'output_tokens': 850, 'total_tokens': 872}\n"
     ]
    }
   ],
   "source": [
    "query=\"can you give me 1000 words essay on independence?\"\n",
    "response = cached_model(query)\n",
    "print(response)"
   ]
  },
  {
   "cell_type": "code",
   "execution_count": 54,
   "id": "a8a7592b",
   "metadata": {},
   "outputs": [
    {
     "name": "stdout",
     "output_type": "stream",
     "text": [
      "***CACHE HIT***\n",
      "EXECUTION TIME: 0.00 seconds\n",
      "content=\"Here is a 1000-word essay on independence:\\n\\nIndependence is a fundamental human right that is essential for individuals, communities, and nations to thrive. It is the freedom to make choices, live life on one's own terms, and pursue happiness without undue interference from others. Independence is not just a political concept, but a state of mind that enables people to take control of their lives, make decisions, and shape their own destiny.\\n\\nThroughout history, the struggle for independence has been a recurring theme. From the American Revolution to the Indian freedom movement, people have fought against colonialism, imperialism, and oppressive regimes to gain independence and self-determination. The desire for independence is a powerful force that has inspired countless individuals to sacrifice their lives, livelihoods, and comfort for the sake of freedom.\\n\\nOne of the most significant benefits of independence is the ability to make choices. When individuals are independent, they can decide how to live their lives, pursue their passions, and allocate their resources. They are not bound by the dictates of others, and they can chart their own course in life. This freedom to choose is essential for personal growth, creativity, and innovation. It allows people to explore new ideas, take risks, and push the boundaries of human knowledge and achievement.\\n\\nIndependence also fosters a sense of responsibility and accountability. When individuals are independent, they are more likely to take ownership of their actions and decisions. They are more accountable to themselves and others, and they are more likely to be motivated to work hard and achieve their goals. This sense of responsibility is essential for building strong, resilient communities and nations.\\n\\nIn addition to personal benefits, independence is also essential for economic development and prosperity. Independent nations can make their own economic decisions, set their own policies, and chart their own course in the global economy. They are not beholden to foreign powers or institutions, and they can pursue their own interests and priorities. This autonomy is essential for building strong, diverse economies that can provide for the needs of citizens.\\n\\nFurthermore, independence is a key factor in promoting peace and stability. When nations are independent, they are more likely to resolve their differences through diplomacy and negotiation rather than conflict and aggression. They are more likely to respect the sovereignty of other nations and to promote regional and global cooperation. This is essential for building a more peaceful and stable world, where nations can work together to address common challenges and promote mutual prosperity.\\n\\nHowever, independence is not without its challenges. It requires individuals and nations to take responsibility for their own affairs, to make difficult decisions, and to face uncertainty and risk. It requires them to be resilient, adaptable, and resourceful in the face of adversity. It also requires them to be willing to compromise, to negotiate, and to work together with others to achieve common goals.\\n\\nDespite these challenges, independence is essential for human flourishing and progress. It is a fundamental human right that is enshrined in the Universal Declaration of Human Rights and other international instruments. It is a cornerstone of democratic governance, economic development, and social justice.\\n\\nIn conclusion, independence is a vital component of human life and society. It is the freedom to make choices, to live life on one's own terms, and to pursue happiness without undue interference from others. It is essential for personal growth, creativity, and innovation, and it fosters a sense of responsibility and accountability. It is also essential for economic development, peace, and stability, and it is a key factor in promoting regional and global cooperation.\\n\\nAs we celebrate independence, we must also acknowledge the challenges and complexities that come with it. We must recognize that independence is not a fixed state, but a dynamic and ongoing process that requires effort, commitment, and sacrifice. We must also recognize that independence is not a zero-sum game, where one nation's gain is another's loss. Rather, it is a mutually beneficial and interdependent process that requires cooperation, compromise, and a commitment to the well-being of all.\\n\\nUltimately, independence is a fundamental human right that is essential for building a better world. It is a beacon of hope and freedom that inspires individuals and nations to strive for greatness, to push beyond the boundaries of human achievement, and to create a brighter future for all.\" additional_kwargs={} response_metadata={'token_usage': {'completion_tokens': 850, 'prompt_tokens': 22, 'total_tokens': 872, 'completion_time': 2.3173519000000002, 'prompt_time': 0.011030206, 'queue_time': 0.264890419, 'total_time': 2.328382106}, 'model_name': 'llama3-70b-8192', 'system_fingerprint': 'fp_bf16903a67', 'finish_reason': 'stop', 'logprobs': None} id='run--689a7349-4574-4329-8e10-64eead8c8ac8-0' usage_metadata={'input_tokens': 22, 'output_tokens': 850, 'total_tokens': 872}\n"
     ]
    }
   ],
   "source": [
    "query=\"can you give me 1000 words essay on independence?\"\n",
    "response = cached_model(query)\n",
    "print(response)"
   ]
  },
  {
   "cell_type": "code",
   "execution_count": 55,
   "id": "ce83d7f9",
   "metadata": {},
   "outputs": [
    {
     "name": "stdout",
     "output_type": "stream",
     "text": [
      "***CACHE MISS – EXECUTING MODEL***\n",
      "EXECUTION TIME: 2.92 seconds\n",
      "content='Here are 50 differences between Machine Learning (ML) and Deep Learning (DL):\\n\\n**1-5:**\\n\\n1. **Scope**: ML is a broader field that encompasses a range of techniques, while DL is a subset of ML that focuses on neural networks.\\n2. **Approach**: ML involves a more traditional, explicit approach to feature engineering, while DL takes a more implicit, automatic approach.\\n3. **Complexity**: ML models are generally less complex than DL models.\\n4. **Interpretability**: ML models are often more interpretable than DL models.\\n5. **Data requirements**: ML can work with smaller datasets, while DL typically requires large amounts of data.\\n\\n**6-10:**\\n\\n6. **Model type**: ML includes a range of model types (e.g., decision trees, random forests, SVMs), while DL is primarily focused on neural networks.\\n7. **Learning style**: ML involves shallow learning, while DL involves deep learning.\\n8. **Feature extraction**: ML relies on manual feature extraction, while DL automatically extracts features.\\n9. **Computational requirements**: DL requires significantly more computational resources than ML.\\n10. **Training time**: DL models take longer to train than ML models.\\n\\n**11-15:**\\n\\n11. **Model complexity**: DL models have more parameters and are more complex than ML models.\\n12. **Overfitting**: DL models are more prone to overfitting than ML models.\\n13. **Regularization**: DL models require more regularization techniques to prevent overfitting.\\n14. **Optimization**: DL models require more sophisticated optimization techniques than ML models.\\n15. **Gradient descent**: DL models rely heavily on gradient descent, while ML models may use other optimization techniques.\\n\\n**16-20:**\\n\\n16. **Activation functions**: DL models use more complex activation functions (e.g., ReLU, sigmoid) than ML models.\\n17. **Hidden layers**: DL models have multiple hidden layers, while ML models typically have fewer or no hidden layers.\\n18. **Neural network architecture**: DL models have more complex neural network architectures than ML models.\\n19. **Convolutional neural networks**: DL models include convolutional neural networks (CNNs), while ML models do not.\\n20. **Recurrent neural networks**: DL models include recurrent neural networks (RNNs), while ML models do not.\\n\\n**21-25:**\\n\\n21. **Natural language processing**: DL is particularly well-suited to natural language processing tasks, while ML is more general-purpose.\\n22. **Computer vision**: DL is particularly well-suited to computer vision tasks, while ML is more general-purpose.\\n23. **Speech recognition**: DL is particularly well-suited to speech recognition tasks, while ML is more general-purpose.\\n24. **Time series analysis**: DL is particularly well-suited to time series analysis tasks, while ML is more general-purpose.\\n25. **Generative models**: DL includes generative models (e.g., GANs), while ML does not.\\n\\n**26-30:**\\n\\n26. **Autoencoders**: DL models include autoencoders, while ML models do not.\\n27. **Transfer learning**: DL models can leverage transfer learning, while ML models typically do not.\\n28. **Batch normalization**: DL models often use batch normalization, while ML models do not.\\n29. **Dropout**: DL models often use dropout, while ML models do not.\\n30. **Early stopping**: DL models often use early stopping, while ML models do not.\\n\\n**31-35:**\\n\\n31. **Gradient vanishing**: DL models are more prone to gradient vanishing than ML models.\\n32. **Exploding gradients**: DL models are more prone to exploding gradients than ML models.\\n33. **Gradient clipping**: DL models often use gradient clipping, while ML models do not.\\n34. **Gradient normalization**: DL models often use gradient normalization, while ML models do not.\\n35. **Weight regularization**: DL models often use weight regularization, while ML models do not.\\n\\n**36-40:**\\n\\n36. **Loss functions**: DL models often use more complex loss functions (e.g., cross-entropy) than ML models.\\n37. **Optimizer**: DL models often use more sophisticated optimizers (e.g., Adam) than ML models.\\n38. **Learning rate**: DL models often require more careful tuning of the learning rate than ML models.\\n39. **Mini-batching**: DL models often use mini-batching, while ML models do not.\\n40. **Data augmentation**: DL models often use data augmentation, while ML models do not.\\n\\n**41-45:**\\n\\n41. **Model ensemble**: DL models can be more challenging to ensemble than ML models.\\n42. **Hyperparameter tuning**: DL models require more extensive hyperparameter tuning than ML models.\\n43. **Model interpretability**: DL models can be more challenging to interpret than ML models.\\n44. **Model explainability**: DL models can be more challenging to explain than ML models.\\n45. **Model debugging**: DL models can be more challenging to debug than ML models.\\n\\n**46-50:**\\n\\n46. **Scalability**: DL models can be more challenging to scale than ML models.\\n47. **Distributed training**: DL models often require distributed training, while ML models do not.\\n48. **GPU acceleration**: DL models often require GPU acceleration, while ML models do not.\\n49. **TPU acceleration**: DL models can leverage TPU acceleration, while ML models do not.\\n50. **Cloud computing**: DL models often require cloud computing, while ML models do not.\\n\\nPlease note that these differences are not hard and fast, and there can be some overlap between ML and DL. Additionally, some of these differences may be more nuanced or context-dependent than others.' additional_kwargs={} response_metadata={'token_usage': {'completion_tokens': 1169, 'prompt_tokens': 22, 'total_tokens': 1191, 'completion_time': 2.566640325, 'prompt_time': 0.011792722, 'queue_time': 0.266227313, 'total_time': 2.578433047}, 'model_name': 'llama3-70b-8192', 'system_fingerprint': 'fp_bf16903a67', 'finish_reason': 'stop', 'logprobs': None} id='run--fa4f1832-73cc-4ea8-af3e-ef7bedf3727d-0' usage_metadata={'input_tokens': 22, 'output_tokens': 1169, 'total_tokens': 1191}\n"
     ]
    }
   ],
   "source": [
    "query=\"can you give me 50 differences between ML and DL?\"\n",
    "response = cached_model(query)\n",
    "print(response)"
   ]
  },
  {
   "cell_type": "code",
   "execution_count": 56,
   "id": "6e455afe",
   "metadata": {},
   "outputs": [
    {
     "name": "stdout",
     "output_type": "stream",
     "text": [
      "***CACHE MISS – EXECUTING MODEL***\n",
      "EXECUTION TIME: 1.83 seconds\n",
      "content=\"Here are 10 differences between Machine Learning (ML) and Deep Learning (DL):\\n\\n**1.** **Scope**: Machine Learning is a subset of Artificial Intelligence that involves training algorithms to make predictions or decisions based on data. Deep Learning is a subset of Machine Learning that focuses on neural networks with multiple layers.\\n\\n**2.** **Algorithm Complexity**: Machine Learning algorithms tend to be less complex and more interpretable, using techniques like decision trees, random forests, and support vector machines. Deep Learning algorithms, on the other hand, are more complex and less interpretable, using neural networks with multiple layers and millions of parameters.\\n\\n**3.** **Data Requirements**: Machine Learning algorithms can work with small to medium-sized datasets, whereas Deep Learning algorithms require large amounts of data to train and generalize well.\\n\\n**4.** **Model Interpretability**: Machine Learning models are generally more interpretable, meaning it's easier to understand why a particular prediction or decision was made. Deep Learning models, due to their complexity, are often less interpretable and more difficult to understand.\\n\\n**5.** **Training Time**: Machine Learning algorithms typically require less training time and computational resources compared to Deep Learning algorithms, which can take days or even weeks to train on large datasets.\\n\\n**6.** **Accuracy**: Deep Learning algorithms have been shown to achieve state-of-the-art performance in various applications, such as image and speech recognition, natural language processing, and game playing. Machine Learning algorithms may not achieve the same level of accuracy in these domains.\\n\\n**7.** **Overfitting**: Machine Learning algorithms are more prone to overfitting, which occurs when a model is too complex and performs well on the training data but poorly on new, unseen data. Deep Learning algorithms, with their large capacity and regularization techniques, are less prone to overfitting.\\n\\n**8.** **Feature Engineering**: Machine Learning algorithms often require manual feature engineering, where features are carefully selected and transformed to improve model performance. Deep Learning algorithms, with their automatic feature learning capabilities, can learn features from raw data without manual intervention.\\n\\n**9.** **Problem Solving**: Machine Learning is suitable for solving well-defined problems with a clear objective function, such as classification, regression, and clustering. Deep Learning is better suited for solving complex, hierarchical problems, such as image recognition, speech recognition, and natural language processing.\\n\\n**10.** **Hardware Requirements**: Deep Learning algorithms require specialized hardware, such as Graphics Processing Units (GPUs) or Tensor Processing Units (TPUs), to handle the massive computational requirements. Machine Learning algorithms can often run on standard CPU architectures.\\n\\nKeep in mind that these differences are not hard and fast, and there is some overlap between Machine Learning and Deep Learning. However, these distinctions should give you a general sense of the differences between these two fields.\" additional_kwargs={} response_metadata={'token_usage': {'completion_tokens': 569, 'prompt_tokens': 22, 'total_tokens': 591, 'completion_time': 1.43905458, 'prompt_time': 0.019306973, 'queue_time': 0.26586852, 'total_time': 1.458361553}, 'model_name': 'llama3-70b-8192', 'system_fingerprint': 'fp_bf16903a67', 'finish_reason': 'stop', 'logprobs': None} id='run--56f4fc2c-75d1-451d-bb25-883952a94440-0' usage_metadata={'input_tokens': 22, 'output_tokens': 569, 'total_tokens': 591}\n"
     ]
    }
   ],
   "source": [
    "query=\"can you give me 10 differences between ML and DL?\"\n",
    "response = cached_model(query)\n",
    "print(response)"
   ]
  },
  {
   "cell_type": "code",
   "execution_count": 57,
   "id": "fc8d7758",
   "metadata": {},
   "outputs": [
    {
     "name": "stdout",
     "output_type": "stream",
     "text": [
      "***CACHE HIT***\n",
      "EXECUTION TIME: 0.00 seconds\n",
      "content=\"Here are 10 differences between Machine Learning (ML) and Deep Learning (DL):\\n\\n**1.** **Scope**: Machine Learning is a subset of Artificial Intelligence that involves training algorithms to make predictions or decisions based on data. Deep Learning is a subset of Machine Learning that focuses on neural networks with multiple layers.\\n\\n**2.** **Algorithm Complexity**: Machine Learning algorithms tend to be less complex and more interpretable, using techniques like decision trees, random forests, and support vector machines. Deep Learning algorithms, on the other hand, are more complex and less interpretable, using neural networks with multiple layers and millions of parameters.\\n\\n**3.** **Data Requirements**: Machine Learning algorithms can work with small to medium-sized datasets, whereas Deep Learning algorithms require large amounts of data to train and generalize well.\\n\\n**4.** **Model Interpretability**: Machine Learning models are generally more interpretable, meaning it's easier to understand why a particular prediction or decision was made. Deep Learning models, due to their complexity, are often less interpretable and more difficult to understand.\\n\\n**5.** **Training Time**: Machine Learning algorithms typically require less training time and computational resources compared to Deep Learning algorithms, which can take days or even weeks to train on large datasets.\\n\\n**6.** **Accuracy**: Deep Learning algorithms have been shown to achieve state-of-the-art performance in various applications, such as image and speech recognition, natural language processing, and game playing. Machine Learning algorithms may not achieve the same level of accuracy in these domains.\\n\\n**7.** **Overfitting**: Machine Learning algorithms are more prone to overfitting, which occurs when a model is too complex and performs well on the training data but poorly on new, unseen data. Deep Learning algorithms, with their large capacity and regularization techniques, are less prone to overfitting.\\n\\n**8.** **Feature Engineering**: Machine Learning algorithms often require manual feature engineering, where features are carefully selected and transformed to improve model performance. Deep Learning algorithms, with their automatic feature learning capabilities, can learn features from raw data without manual intervention.\\n\\n**9.** **Problem Solving**: Machine Learning is suitable for solving well-defined problems with a clear objective function, such as classification, regression, and clustering. Deep Learning is better suited for solving complex, hierarchical problems, such as image recognition, speech recognition, and natural language processing.\\n\\n**10.** **Hardware Requirements**: Deep Learning algorithms require specialized hardware, such as Graphics Processing Units (GPUs) or Tensor Processing Units (TPUs), to handle the massive computational requirements. Machine Learning algorithms can often run on standard CPU architectures.\\n\\nKeep in mind that these differences are not hard and fast, and there is some overlap between Machine Learning and Deep Learning. However, these distinctions should give you a general sense of the differences between these two fields.\" additional_kwargs={} response_metadata={'token_usage': {'completion_tokens': 569, 'prompt_tokens': 22, 'total_tokens': 591, 'completion_time': 1.43905458, 'prompt_time': 0.019306973, 'queue_time': 0.26586852, 'total_time': 1.458361553}, 'model_name': 'llama3-70b-8192', 'system_fingerprint': 'fp_bf16903a67', 'finish_reason': 'stop', 'logprobs': None} id='run--56f4fc2c-75d1-451d-bb25-883952a94440-0' usage_metadata={'input_tokens': 22, 'output_tokens': 569, 'total_tokens': 591}\n"
     ]
    }
   ],
   "source": [
    "query=\"can you give me 10 differences between ML and DL?\"\n",
    "response = cached_model(query)\n",
    "print(response)"
   ]
  },
  {
   "cell_type": "code",
   "execution_count": 58,
   "id": "bb1a71bc",
   "metadata": {},
   "outputs": [
    {
     "data": {
      "text/plain": [
       "{'hi': AIMessage(content=\"Hi! It's nice to meet you. Is there something I can help you with or would you like to chat?\", additional_kwargs={}, response_metadata={'token_usage': {'completion_tokens': 25, 'prompt_tokens': 11, 'total_tokens': 36, 'completion_time': 0.041043971, 'prompt_time': 0.010358469, 'queue_time': 0.264962757, 'total_time': 0.05140244}, 'model_name': 'llama3-70b-8192', 'system_fingerprint': 'fp_bf16903a67', 'finish_reason': 'stop', 'logprobs': None}, id='run--3152846c-607f-405c-b35c-f60a9eaf02f5-0', usage_metadata={'input_tokens': 11, 'output_tokens': 25, 'total_tokens': 36}),\n",
       " 'can you give me 1000 words essay on independence?': AIMessage(content=\"Here is a 1000-word essay on independence:\\n\\nIndependence is a fundamental human right that is essential for individuals, communities, and nations to thrive. It is the freedom to make choices, live life on one's own terms, and pursue happiness without undue interference from others. Independence is not just a political concept, but a state of mind that enables people to take control of their lives, make decisions, and shape their own destiny.\\n\\nThroughout history, the struggle for independence has been a recurring theme. From the American Revolution to the Indian freedom movement, people have fought against colonialism, imperialism, and oppressive regimes to gain independence and self-determination. The desire for independence is a powerful force that has inspired countless individuals to sacrifice their lives, livelihoods, and comfort for the sake of freedom.\\n\\nOne of the most significant benefits of independence is the ability to make choices. When individuals are independent, they can decide how to live their lives, pursue their passions, and allocate their resources. They are not bound by the dictates of others, and they can chart their own course in life. This freedom to choose is essential for personal growth, creativity, and innovation. It allows people to explore new ideas, take risks, and push the boundaries of human knowledge and achievement.\\n\\nIndependence also fosters a sense of responsibility and accountability. When individuals are independent, they are more likely to take ownership of their actions and decisions. They are more accountable to themselves and others, and they are more likely to be motivated to work hard and achieve their goals. This sense of responsibility is essential for building strong, resilient communities and nations.\\n\\nIn addition to personal benefits, independence is also essential for economic development and prosperity. Independent nations can make their own economic decisions, set their own policies, and chart their own course in the global economy. They are not beholden to foreign powers or institutions, and they can pursue their own interests and priorities. This autonomy is essential for building strong, diverse economies that can provide for the needs of citizens.\\n\\nFurthermore, independence is a key factor in promoting peace and stability. When nations are independent, they are more likely to resolve their differences through diplomacy and negotiation rather than conflict and aggression. They are more likely to respect the sovereignty of other nations and to promote regional and global cooperation. This is essential for building a more peaceful and stable world, where nations can work together to address common challenges and promote mutual prosperity.\\n\\nHowever, independence is not without its challenges. It requires individuals and nations to take responsibility for their own affairs, to make difficult decisions, and to face uncertainty and risk. It requires them to be resilient, adaptable, and resourceful in the face of adversity. It also requires them to be willing to compromise, to negotiate, and to work together with others to achieve common goals.\\n\\nDespite these challenges, independence is essential for human flourishing and progress. It is a fundamental human right that is enshrined in the Universal Declaration of Human Rights and other international instruments. It is a cornerstone of democratic governance, economic development, and social justice.\\n\\nIn conclusion, independence is a vital component of human life and society. It is the freedom to make choices, to live life on one's own terms, and to pursue happiness without undue interference from others. It is essential for personal growth, creativity, and innovation, and it fosters a sense of responsibility and accountability. It is also essential for economic development, peace, and stability, and it is a key factor in promoting regional and global cooperation.\\n\\nAs we celebrate independence, we must also acknowledge the challenges and complexities that come with it. We must recognize that independence is not a fixed state, but a dynamic and ongoing process that requires effort, commitment, and sacrifice. We must also recognize that independence is not a zero-sum game, where one nation's gain is another's loss. Rather, it is a mutually beneficial and interdependent process that requires cooperation, compromise, and a commitment to the well-being of all.\\n\\nUltimately, independence is a fundamental human right that is essential for building a better world. It is a beacon of hope and freedom that inspires individuals and nations to strive for greatness, to push beyond the boundaries of human achievement, and to create a brighter future for all.\", additional_kwargs={}, response_metadata={'token_usage': {'completion_tokens': 850, 'prompt_tokens': 22, 'total_tokens': 872, 'completion_time': 2.3173519000000002, 'prompt_time': 0.011030206, 'queue_time': 0.264890419, 'total_time': 2.328382106}, 'model_name': 'llama3-70b-8192', 'system_fingerprint': 'fp_bf16903a67', 'finish_reason': 'stop', 'logprobs': None}, id='run--689a7349-4574-4329-8e10-64eead8c8ac8-0', usage_metadata={'input_tokens': 22, 'output_tokens': 850, 'total_tokens': 872}),\n",
       " 'can you give me 50 differences between ML and DL?': AIMessage(content='Here are 50 differences between Machine Learning (ML) and Deep Learning (DL):\\n\\n**1-5:**\\n\\n1. **Scope**: ML is a broader field that encompasses a range of techniques, while DL is a subset of ML that focuses on neural networks.\\n2. **Approach**: ML involves a more traditional, explicit approach to feature engineering, while DL takes a more implicit, automatic approach.\\n3. **Complexity**: ML models are generally less complex than DL models.\\n4. **Interpretability**: ML models are often more interpretable than DL models.\\n5. **Data requirements**: ML can work with smaller datasets, while DL typically requires large amounts of data.\\n\\n**6-10:**\\n\\n6. **Model type**: ML includes a range of model types (e.g., decision trees, random forests, SVMs), while DL is primarily focused on neural networks.\\n7. **Learning style**: ML involves shallow learning, while DL involves deep learning.\\n8. **Feature extraction**: ML relies on manual feature extraction, while DL automatically extracts features.\\n9. **Computational requirements**: DL requires significantly more computational resources than ML.\\n10. **Training time**: DL models take longer to train than ML models.\\n\\n**11-15:**\\n\\n11. **Model complexity**: DL models have more parameters and are more complex than ML models.\\n12. **Overfitting**: DL models are more prone to overfitting than ML models.\\n13. **Regularization**: DL models require more regularization techniques to prevent overfitting.\\n14. **Optimization**: DL models require more sophisticated optimization techniques than ML models.\\n15. **Gradient descent**: DL models rely heavily on gradient descent, while ML models may use other optimization techniques.\\n\\n**16-20:**\\n\\n16. **Activation functions**: DL models use more complex activation functions (e.g., ReLU, sigmoid) than ML models.\\n17. **Hidden layers**: DL models have multiple hidden layers, while ML models typically have fewer or no hidden layers.\\n18. **Neural network architecture**: DL models have more complex neural network architectures than ML models.\\n19. **Convolutional neural networks**: DL models include convolutional neural networks (CNNs), while ML models do not.\\n20. **Recurrent neural networks**: DL models include recurrent neural networks (RNNs), while ML models do not.\\n\\n**21-25:**\\n\\n21. **Natural language processing**: DL is particularly well-suited to natural language processing tasks, while ML is more general-purpose.\\n22. **Computer vision**: DL is particularly well-suited to computer vision tasks, while ML is more general-purpose.\\n23. **Speech recognition**: DL is particularly well-suited to speech recognition tasks, while ML is more general-purpose.\\n24. **Time series analysis**: DL is particularly well-suited to time series analysis tasks, while ML is more general-purpose.\\n25. **Generative models**: DL includes generative models (e.g., GANs), while ML does not.\\n\\n**26-30:**\\n\\n26. **Autoencoders**: DL models include autoencoders, while ML models do not.\\n27. **Transfer learning**: DL models can leverage transfer learning, while ML models typically do not.\\n28. **Batch normalization**: DL models often use batch normalization, while ML models do not.\\n29. **Dropout**: DL models often use dropout, while ML models do not.\\n30. **Early stopping**: DL models often use early stopping, while ML models do not.\\n\\n**31-35:**\\n\\n31. **Gradient vanishing**: DL models are more prone to gradient vanishing than ML models.\\n32. **Exploding gradients**: DL models are more prone to exploding gradients than ML models.\\n33. **Gradient clipping**: DL models often use gradient clipping, while ML models do not.\\n34. **Gradient normalization**: DL models often use gradient normalization, while ML models do not.\\n35. **Weight regularization**: DL models often use weight regularization, while ML models do not.\\n\\n**36-40:**\\n\\n36. **Loss functions**: DL models often use more complex loss functions (e.g., cross-entropy) than ML models.\\n37. **Optimizer**: DL models often use more sophisticated optimizers (e.g., Adam) than ML models.\\n38. **Learning rate**: DL models often require more careful tuning of the learning rate than ML models.\\n39. **Mini-batching**: DL models often use mini-batching, while ML models do not.\\n40. **Data augmentation**: DL models often use data augmentation, while ML models do not.\\n\\n**41-45:**\\n\\n41. **Model ensemble**: DL models can be more challenging to ensemble than ML models.\\n42. **Hyperparameter tuning**: DL models require more extensive hyperparameter tuning than ML models.\\n43. **Model interpretability**: DL models can be more challenging to interpret than ML models.\\n44. **Model explainability**: DL models can be more challenging to explain than ML models.\\n45. **Model debugging**: DL models can be more challenging to debug than ML models.\\n\\n**46-50:**\\n\\n46. **Scalability**: DL models can be more challenging to scale than ML models.\\n47. **Distributed training**: DL models often require distributed training, while ML models do not.\\n48. **GPU acceleration**: DL models often require GPU acceleration, while ML models do not.\\n49. **TPU acceleration**: DL models can leverage TPU acceleration, while ML models do not.\\n50. **Cloud computing**: DL models often require cloud computing, while ML models do not.\\n\\nPlease note that these differences are not hard and fast, and there can be some overlap between ML and DL. Additionally, some of these differences may be more nuanced or context-dependent than others.', additional_kwargs={}, response_metadata={'token_usage': {'completion_tokens': 1169, 'prompt_tokens': 22, 'total_tokens': 1191, 'completion_time': 2.566640325, 'prompt_time': 0.011792722, 'queue_time': 0.266227313, 'total_time': 2.578433047}, 'model_name': 'llama3-70b-8192', 'system_fingerprint': 'fp_bf16903a67', 'finish_reason': 'stop', 'logprobs': None}, id='run--fa4f1832-73cc-4ea8-af3e-ef7bedf3727d-0', usage_metadata={'input_tokens': 22, 'output_tokens': 1169, 'total_tokens': 1191}),\n",
       " 'can you give me 10 differences between ML and DL?': AIMessage(content=\"Here are 10 differences between Machine Learning (ML) and Deep Learning (DL):\\n\\n**1.** **Scope**: Machine Learning is a subset of Artificial Intelligence that involves training algorithms to make predictions or decisions based on data. Deep Learning is a subset of Machine Learning that focuses on neural networks with multiple layers.\\n\\n**2.** **Algorithm Complexity**: Machine Learning algorithms tend to be less complex and more interpretable, using techniques like decision trees, random forests, and support vector machines. Deep Learning algorithms, on the other hand, are more complex and less interpretable, using neural networks with multiple layers and millions of parameters.\\n\\n**3.** **Data Requirements**: Machine Learning algorithms can work with small to medium-sized datasets, whereas Deep Learning algorithms require large amounts of data to train and generalize well.\\n\\n**4.** **Model Interpretability**: Machine Learning models are generally more interpretable, meaning it's easier to understand why a particular prediction or decision was made. Deep Learning models, due to their complexity, are often less interpretable and more difficult to understand.\\n\\n**5.** **Training Time**: Machine Learning algorithms typically require less training time and computational resources compared to Deep Learning algorithms, which can take days or even weeks to train on large datasets.\\n\\n**6.** **Accuracy**: Deep Learning algorithms have been shown to achieve state-of-the-art performance in various applications, such as image and speech recognition, natural language processing, and game playing. Machine Learning algorithms may not achieve the same level of accuracy in these domains.\\n\\n**7.** **Overfitting**: Machine Learning algorithms are more prone to overfitting, which occurs when a model is too complex and performs well on the training data but poorly on new, unseen data. Deep Learning algorithms, with their large capacity and regularization techniques, are less prone to overfitting.\\n\\n**8.** **Feature Engineering**: Machine Learning algorithms often require manual feature engineering, where features are carefully selected and transformed to improve model performance. Deep Learning algorithms, with their automatic feature learning capabilities, can learn features from raw data without manual intervention.\\n\\n**9.** **Problem Solving**: Machine Learning is suitable for solving well-defined problems with a clear objective function, such as classification, regression, and clustering. Deep Learning is better suited for solving complex, hierarchical problems, such as image recognition, speech recognition, and natural language processing.\\n\\n**10.** **Hardware Requirements**: Deep Learning algorithms require specialized hardware, such as Graphics Processing Units (GPUs) or Tensor Processing Units (TPUs), to handle the massive computational requirements. Machine Learning algorithms can often run on standard CPU architectures.\\n\\nKeep in mind that these differences are not hard and fast, and there is some overlap between Machine Learning and Deep Learning. However, these distinctions should give you a general sense of the differences between these two fields.\", additional_kwargs={}, response_metadata={'token_usage': {'completion_tokens': 569, 'prompt_tokens': 22, 'total_tokens': 591, 'completion_time': 1.43905458, 'prompt_time': 0.019306973, 'queue_time': 0.26586852, 'total_time': 1.458361553}, 'model_name': 'llama3-70b-8192', 'system_fingerprint': 'fp_bf16903a67', 'finish_reason': 'stop', 'logprobs': None}, id='run--56f4fc2c-75d1-451d-bb25-883952a94440-0', usage_metadata={'input_tokens': 22, 'output_tokens': 569, 'total_tokens': 591})}"
      ]
     },
     "execution_count": 58,
     "metadata": {},
     "output_type": "execute_result"
    }
   ],
   "source": [
    "Model_Cache"
   ]
  },
  {
   "cell_type": "code",
   "execution_count": 59,
   "id": "b789a793",
   "metadata": {},
   "outputs": [
    {
     "name": "stdout",
     "output_type": "stream",
     "text": [
      "Requirement already satisfied: langchain-huggingface in d:\\archieve\\langchain_components\\venv\\lib\\site-packages (0.3.0)\n",
      "Requirement already satisfied: langchain-core<1.0.0,>=0.3.65 in d:\\archieve\\langchain_components\\venv\\lib\\site-packages (from langchain-huggingface) (0.3.67)\n",
      "Requirement already satisfied: tokenizers>=0.19.1 in d:\\archieve\\langchain_components\\venv\\lib\\site-packages (from langchain-huggingface) (0.21.2)\n",
      "Requirement already satisfied: huggingface-hub>=0.30.2 in d:\\archieve\\langchain_components\\venv\\lib\\site-packages (from langchain-huggingface) (0.33.2)\n",
      "Requirement already satisfied: langsmith>=0.3.45 in d:\\archieve\\langchain_components\\venv\\lib\\site-packages (from langchain-core<1.0.0,>=0.3.65->langchain-huggingface) (0.4.4)\n",
      "Requirement already satisfied: tenacity!=8.4.0,<10.0.0,>=8.1.0 in d:\\archieve\\langchain_components\\venv\\lib\\site-packages (from langchain-core<1.0.0,>=0.3.65->langchain-huggingface) (9.1.2)\n",
      "Requirement already satisfied: jsonpatch<2.0,>=1.33 in d:\\archieve\\langchain_components\\venv\\lib\\site-packages (from langchain-core<1.0.0,>=0.3.65->langchain-huggingface) (1.33)\n",
      "Requirement already satisfied: PyYAML>=5.3 in d:\\archieve\\langchain_components\\venv\\lib\\site-packages (from langchain-core<1.0.0,>=0.3.65->langchain-huggingface) (6.0.2)\n",
      "Requirement already satisfied: packaging<25,>=23.2 in d:\\archieve\\langchain_components\\venv\\lib\\site-packages (from langchain-core<1.0.0,>=0.3.65->langchain-huggingface) (24.2)\n",
      "Requirement already satisfied: typing-extensions>=4.7 in d:\\archieve\\langchain_components\\venv\\lib\\site-packages (from langchain-core<1.0.0,>=0.3.65->langchain-huggingface) (4.14.0)\n",
      "Requirement already satisfied: pydantic>=2.7.4 in d:\\archieve\\langchain_components\\venv\\lib\\site-packages (from langchain-core<1.0.0,>=0.3.65->langchain-huggingface) (2.11.7)\n",
      "Requirement already satisfied: jsonpointer>=1.9 in d:\\archieve\\langchain_components\\venv\\lib\\site-packages (from jsonpatch<2.0,>=1.33->langchain-core<1.0.0,>=0.3.65->langchain-huggingface) (3.0.0)\n",
      "Requirement already satisfied: filelock in d:\\archieve\\langchain_components\\venv\\lib\\site-packages (from huggingface-hub>=0.30.2->langchain-huggingface) (3.18.0)\n",
      "Requirement already satisfied: fsspec>=2023.5.0 in d:\\archieve\\langchain_components\\venv\\lib\\site-packages (from huggingface-hub>=0.30.2->langchain-huggingface) (2025.5.1)\n",
      "Requirement already satisfied: requests in d:\\archieve\\langchain_components\\venv\\lib\\site-packages (from huggingface-hub>=0.30.2->langchain-huggingface) (2.32.4)\n",
      "Requirement already satisfied: tqdm>=4.42.1 in d:\\archieve\\langchain_components\\venv\\lib\\site-packages (from huggingface-hub>=0.30.2->langchain-huggingface) (4.67.1)\n",
      "Requirement already satisfied: httpx<1,>=0.23.0 in d:\\archieve\\langchain_components\\venv\\lib\\site-packages (from langsmith>=0.3.45->langchain-core<1.0.0,>=0.3.65->langchain-huggingface) (0.28.1)\n",
      "Requirement already satisfied: orjson<4.0.0,>=3.9.14 in d:\\archieve\\langchain_components\\venv\\lib\\site-packages (from langsmith>=0.3.45->langchain-core<1.0.0,>=0.3.65->langchain-huggingface) (3.10.18)\n",
      "Requirement already satisfied: requests-toolbelt<2.0.0,>=1.0.0 in d:\\archieve\\langchain_components\\venv\\lib\\site-packages (from langsmith>=0.3.45->langchain-core<1.0.0,>=0.3.65->langchain-huggingface) (1.0.0)\n",
      "Requirement already satisfied: zstandard<0.24.0,>=0.23.0 in d:\\archieve\\langchain_components\\venv\\lib\\site-packages (from langsmith>=0.3.45->langchain-core<1.0.0,>=0.3.65->langchain-huggingface) (0.23.0)\n",
      "Requirement already satisfied: anyio in d:\\archieve\\langchain_components\\venv\\lib\\site-packages (from httpx<1,>=0.23.0->langsmith>=0.3.45->langchain-core<1.0.0,>=0.3.65->langchain-huggingface) (4.9.0)\n",
      "Requirement already satisfied: certifi in d:\\archieve\\langchain_components\\venv\\lib\\site-packages (from httpx<1,>=0.23.0->langsmith>=0.3.45->langchain-core<1.0.0,>=0.3.65->langchain-huggingface) (2025.6.15)\n",
      "Requirement already satisfied: httpcore==1.* in d:\\archieve\\langchain_components\\venv\\lib\\site-packages (from httpx<1,>=0.23.0->langsmith>=0.3.45->langchain-core<1.0.0,>=0.3.65->langchain-huggingface) (1.0.9)\n",
      "Requirement already satisfied: idna in d:\\archieve\\langchain_components\\venv\\lib\\site-packages (from httpx<1,>=0.23.0->langsmith>=0.3.45->langchain-core<1.0.0,>=0.3.65->langchain-huggingface) (3.10)\n",
      "Requirement already satisfied: h11>=0.16 in d:\\archieve\\langchain_components\\venv\\lib\\site-packages (from httpcore==1.*->httpx<1,>=0.23.0->langsmith>=0.3.45->langchain-core<1.0.0,>=0.3.65->langchain-huggingface) (0.16.0)\n",
      "Requirement already satisfied: annotated-types>=0.6.0 in d:\\archieve\\langchain_components\\venv\\lib\\site-packages (from pydantic>=2.7.4->langchain-core<1.0.0,>=0.3.65->langchain-huggingface) (0.7.0)\n",
      "Requirement already satisfied: pydantic-core==2.33.2 in d:\\archieve\\langchain_components\\venv\\lib\\site-packages (from pydantic>=2.7.4->langchain-core<1.0.0,>=0.3.65->langchain-huggingface) (2.33.2)\n",
      "Requirement already satisfied: typing-inspection>=0.4.0 in d:\\archieve\\langchain_components\\venv\\lib\\site-packages (from pydantic>=2.7.4->langchain-core<1.0.0,>=0.3.65->langchain-huggingface) (0.4.1)\n",
      "Requirement already satisfied: charset_normalizer<4,>=2 in d:\\archieve\\langchain_components\\venv\\lib\\site-packages (from requests->huggingface-hub>=0.30.2->langchain-huggingface) (3.4.2)\n",
      "Requirement already satisfied: urllib3<3,>=1.21.1 in d:\\archieve\\langchain_components\\venv\\lib\\site-packages (from requests->huggingface-hub>=0.30.2->langchain-huggingface) (2.5.0)\n",
      "Requirement already satisfied: colorama in d:\\archieve\\langchain_components\\venv\\lib\\site-packages (from tqdm>=4.42.1->huggingface-hub>=0.30.2->langchain-huggingface) (0.4.6)\n",
      "Requirement already satisfied: exceptiongroup>=1.0.2 in d:\\archieve\\langchain_components\\venv\\lib\\site-packages (from anyio->httpx<1,>=0.23.0->langsmith>=0.3.45->langchain-core<1.0.0,>=0.3.65->langchain-huggingface) (1.3.0)\n",
      "Requirement already satisfied: sniffio>=1.1 in d:\\archieve\\langchain_components\\venv\\lib\\site-packages (from anyio->httpx<1,>=0.23.0->langsmith>=0.3.45->langchain-core<1.0.0,>=0.3.65->langchain-huggingface) (1.3.1)\n",
      "Note: you may need to restart the kernel to use updated packages.\n"
     ]
    }
   ],
   "source": [
    "pip install langchain-huggingface"
   ]
  },
  {
   "cell_type": "code",
   "execution_count": 60,
   "id": "8960b806",
   "metadata": {},
   "outputs": [],
   "source": [
    "from langchain_community.embeddings import HuggingFaceEmbeddings\n",
    "\n",
    "embedding_model = HuggingFaceEmbeddings(\n",
    "    model_name=\"sentence-transformers/all-MiniLM-L6-v2\"\n",
    ")"
   ]
  },
  {
   "cell_type": "code",
   "execution_count": 61,
   "id": "e8f9287f",
   "metadata": {},
   "outputs": [],
   "source": [
    "from langchain_community.vectorstores import Chroma\n",
    "from langchain_core.prompts import PromptTemplate\n",
    "from langchain_core.runnables import RunnableMap, RunnablePassthrough\n",
    "from langchain_core.output_parsers import StrOutputParser"
   ]
  },
  {
   "cell_type": "code",
   "execution_count": 62,
   "id": "0dd83730",
   "metadata": {},
   "outputs": [],
   "source": [
    "from langchain.schema import Document\n",
    "\n",
    "documents = [\n",
    "    Document(page_content=\"The Earth is the third planet from the Sun and the only known planet to support life. It has a diverse climate, ranging from arctic to tropical zones, and supports ecosystems across seven continents and five oceans.\"),\n",
    "\n",
    "    Document(page_content=\"The Industrial Revolution, beginning in the 18th century, drastically transformed human societies by shifting from manual labor to machine-based manufacturing, leading to urbanization and economic expansion globally.\"),\n",
    "\n",
    "    Document(page_content=\"The United Nations, established in 1945 after World War II, is an international organization founded to promote peace, security, human rights, and cooperation among countries. It has 193 member states.\"),\n",
    "\n",
    "    Document(page_content=\"The global economy is an interconnected system involving trade, investment, and financial flows across countries. Major players include the United States, China, the European Union, and emerging markets like India and Brazil.\"),\n",
    "\n",
    "    Document(page_content=\"Climate change refers to long-term shifts in temperatures and weather patterns. It is largely driven by human activities like burning fossil fuels, deforestation, and industrial emissions, leading to global warming and sea level rise.\"),\n",
    "\n",
    "    Document(page_content=\"Democracy is a political system in which citizens exercise power by voting. Modern democracies typically have institutions for free elections, rule of law, freedom of expression, and checks and balances.\"),\n",
    "\n",
    "    Document(page_content=\"The Internet has revolutionized communication, commerce, and education worldwide. Originating from military research in the 1960s, it now connects over 5 billion people, enabling instant global information exchange.\"),\n",
    "\n",
    "    Document(page_content=\"Renewable energy sources like solar, wind, hydro, and geothermal are critical for a sustainable future. They offer alternatives to fossil fuels, reducing carbon emissions and reliance on finite resources.\"),\n",
    "\n",
    "    Document(page_content=\"The World Health Organization (WHO) is a UN agency focused on global health issues. It coordinates international efforts to monitor diseases, set health standards, and respond to pandemics like COVID-19.\"),\n",
    "\n",
    "    Document(page_content=\"Globalization is the process of increasing interaction and integration among people, companies, and governments worldwide. It has led to greater economic growth but also raised concerns about inequality and cultural homogenization.\")\n",
    "]\n"
   ]
  },
  {
   "cell_type": "code",
   "execution_count": 63,
   "id": "49ef4a92",
   "metadata": {},
   "outputs": [],
   "source": [
    "# Chroma vector DB with persistent storage\n",
    "vector_store = Chroma.from_documents(\n",
    "    documents=documents,\n",
    "    embedding=embedding_model,\n",
    "    persist_directory=\"./chroma_db\"  # Disk path for persistence\n",
    ")"
   ]
  },
  {
   "cell_type": "code",
   "execution_count": 64,
   "id": "a725d0ec",
   "metadata": {},
   "outputs": [],
   "source": [
    "# Optional: Persist manually (though auto-persistence happens internally)\n",
    "vector_store.persist()"
   ]
  },
  {
   "cell_type": "code",
   "execution_count": 65,
   "id": "3c743558",
   "metadata": {},
   "outputs": [],
   "source": [
    "retriever = vector_store.as_retriever()"
   ]
  },
  {
   "cell_type": "code",
   "execution_count": 66,
   "id": "92931c7e",
   "metadata": {},
   "outputs": [],
   "source": [
    "prompt = PromptTemplate.from_template(\n",
    "    \"\"\"\n",
    "    Use the following context to answer the question.\n",
    "    If you don't know the answer, just say you don't know. Don't try to make up an answer.\n",
    "\n",
    "    Context:\n",
    "    {context}\n",
    "\n",
    "    Question:\n",
    "    {question}\n",
    "\n",
    "    Answer:\n",
    "    \"\"\"\n",
    ")\n"
   ]
  },
  {
   "cell_type": "code",
   "execution_count": 67,
   "id": "475d3901",
   "metadata": {},
   "outputs": [],
   "source": [
    "# LCEL RAG Chain step-by-step\n",
    "rag_chain = (\n",
    "    RunnableMap({\n",
    "        \"context\": retriever | (lambda docs: \"\\n\\n\".join([doc.page_content for doc in docs])),\n",
    "        \"question\": RunnablePassthrough()\n",
    "    })\n",
    "    | prompt\n",
    "    | llm\n",
    "    | StrOutputParser()\n",
    ")"
   ]
  },
  {
   "cell_type": "code",
   "execution_count": 68,
   "id": "9be40b6c",
   "metadata": {},
   "outputs": [],
   "source": [
    "# Wrap with cache\n",
    "RAG_Cache = {}"
   ]
  },
  {
   "cell_type": "code",
   "execution_count": 69,
   "id": "4e1c1557",
   "metadata": {},
   "outputs": [],
   "source": [
    "import time\n",
    "def cached_rag_chain(query):\n",
    "    start_time = time.time()\n",
    "    if RAG_Cache.get(query):\n",
    "        print(\"***CACHE HIT***\")\n",
    "        end_time = time.time()\n",
    "        elapsed = end_time - start_time\n",
    "        print(f\"EXECUTION TIME: {elapsed:.2f} seconds\")\n",
    "        return RAG_Cache.get(query)\n",
    "    else:\n",
    "        print(\"***CACHE MISS – EXECUTING MODEL***\")\n",
    "        start_time = time.time()\n",
    "        response = llm.invoke(query)\n",
    "        end_time = time.time()\n",
    "        elapsed = end_time - start_time\n",
    "        print(f\"EXECUTION TIME: {elapsed:.2f} seconds\")\n",
    "        RAG_Cache[query] = response\n",
    "        return response"
   ]
  },
  {
   "cell_type": "code",
   "execution_count": 70,
   "id": "4d8ab8ce",
   "metadata": {},
   "outputs": [
    {
     "name": "stdout",
     "output_type": "stream",
     "text": [
      "***CACHE MISS – EXECUTING MODEL***\n",
      "EXECUTION TIME: 2.52 seconds\n",
      "content=\"**Japan's Economy in 2024:**\\n\\nAs of 2023, Japan's economy is the third-largest in the world in terms of nominal GDP, after the United States and China. In 2024, Japan's economy is expected to continue its moderate growth, driven by:\\n\\n1. **Abenomics**: The economic policies implemented by former Prime Minister Shinzo Abe, which include monetary easing, fiscal stimulus, and structural reforms, are expected to continue under the current government.\\n2. **Domestic demand**: Private consumption, which accounts for about 60% of Japan's GDP, is expected to remain robust, driven by a tight labor market and rising wages.\\n3. **Export growth**: Japan's exports, particularly in the technology and automotive sectors, are expected to benefit from the ongoing global economic recovery.\\n4. **Infrastructure development**: The Japanese government is investing heavily in infrastructure development, including preparations for the 2025 Osaka Expo and the 2028 Tokyo Olympics.\\n\\nHowever, Japan's economy also faces challenges, such as:\\n\\n1. **Aging population**: Japan's rapidly aging population poses significant challenges for the labor market, pension system, and healthcare.\\n2. **Low productivity growth**: Japan's productivity growth has been sluggish, which could limit the economy's growth potential.\\n3. **Global trade tensions**: Japan is heavily dependent on international trade, and ongoing trade tensions with the United States and other countries could negatively impact its economy.\\n\\n**GDP growth forecast for 2024:**\\n\\nThe International Monetary Fund (IMF) has projected Japan's GDP growth rate to be around 1.2% in 2024, which is slightly lower than the 1.4% growth rate in 2023.\\n\\n**Inflation forecast for 2024:**\\n\\nThe Bank of Japan (BOJ) has set an inflation target of 2%, but inflation has remained below this target for several years. The BOJ has forecasted inflation to be around 1.4% in 2024, which is slightly higher than the 1.2% rate in 2023.\\n\\n**Relation with North Korea:**\\n\\nJapan's relations with North Korea are complex and sensitive, given the historical and geographical proximity between the two countries. Here are some key aspects of their relationship:\\n\\n1. **Security concerns**: Japan is concerned about North Korea's nuclear and missile programs, which pose a direct threat to its national security.\\n2. **Abduction issue**: Japan has been seeking the return of its citizens abducted by North Korea in the 1970s and 1980s, which has been a major point of contention between the two countries.\\n3. **Economic sanctions**: Japan has imposed economic sanctions on North Korea in response to its nuclear and missile tests, which has limited bilateral trade and investment.\\n4. **Diplomatic efforts**: Japan has sought to engage with North Korea through diplomatic channels, including the Six-Party Talks, to address its security concerns and promote denuclearization.\\n\\nIn 2024, Japan's relations with North Korea are expected to remain tense, with a focus on:\\n\\n1. **Denuclearization talks**: Japan will likely continue to support international efforts to promote denuclearization on the Korean Peninsula, including the United States-North Korea dialogue.\\n2. **Sanctions enforcement**: Japan will likely maintain its economic sanctions on North Korea, unless there is significant progress in denuclearization talks.\\n3. **Regional security**: Japan will continue to strengthen its security alliances with the United States and other regional partners to address the North Korean threat.\\n\\nOverall, Japan's economy in 2024 is expected to grow moderately, driven by domestic demand and exports. However, the country's relations with North Korea will likely remain challenging, with a focus on addressing security concerns and promoting denuclearization on the Korean Peninsula.\" additional_kwargs={} response_metadata={'token_usage': {'completion_tokens': 779, 'prompt_tokens': 25, 'total_tokens': 804, 'completion_time': 2.141027022, 'prompt_time': 0.011424329, 'queue_time': 0.268891461, 'total_time': 2.152451351}, 'model_name': 'llama3-70b-8192', 'system_fingerprint': 'fp_bf16903a67', 'finish_reason': 'stop', 'logprobs': None} id='run--2f199d60-526c-4463-9794-71aa68a60254-0' usage_metadata={'input_tokens': 25, 'output_tokens': 779, 'total_tokens': 804}\n"
     ]
    }
   ],
   "source": [
    "query = \"what is japan economy in 2024 and relation with north korea?\"\n",
    "response = cached_rag_chain(query)\n",
    "print(response)"
   ]
  },
  {
   "cell_type": "code",
   "execution_count": 71,
   "id": "ed79c9d3",
   "metadata": {},
   "outputs": [
    {
     "name": "stdout",
     "output_type": "stream",
     "text": [
      "***CACHE MISS – EXECUTING MODEL***\n",
      "EXECUTION TIME: 1.45 seconds\n",
      "content=\"LangChain is an open-source framework for building and deploying large language models (LLMs) and AI applications. It provides a modular and extensible architecture for developing, training, and serving AI models, with a focus on scalability, flexibility, and ease of use.\\n\\nThe LangChain framework is designed to support a wide range of natural language processing (NLP) tasks, including but not limited to:\\n\\n1. Language Translation\\n2. Text Classification\\n3. Sentiment Analysis\\n4. Named Entity Recognition\\n5. Question Answering\\n6. Dialogue Systems\\n7. Text Generation\\n\\nLangChain's key features include:\\n\\n1. **Modular Architecture**: LangChain provides a modular architecture that allows developers to easily swap out or add new components, such as models, tokenizers, and optimizers, to create customized AI pipelines.\\n2. **Scalability**: LangChain is designed to scale horizontally, allowing developers to train and deploy large models on distributed computing infrastructure.\\n3. **Flexibility**: LangChain supports a wide range of programming languages, including Python, Java, and C++, and can be used with various deep learning frameworks, such as TensorFlow, PyTorch, and JAX.\\n4. **Ease of Use**: LangChain provides a simple and intuitive API, making it easy for developers to build and deploy AI models, even without extensive AI expertise.\\n5. **Extensive Library**: LangChain comes with a comprehensive library of pre-built components, including models, tokenizers, and optimizers, which can be easily combined to create custom AI pipelines.\\n\\nLangChain is particularly useful for organizations and developers who want to:\\n\\n1. Build and deploy large language models for specific industries or domains.\\n2. Integrate AI capabilities into existing applications and services.\\n3. Develop custom AI models for unique use cases.\\n4. Scale AI models to meet high-performance computing requirements.\\n\\nOverall, LangChain provides a powerful and flexible framework for building and deploying AI models, making it an attractive option for organizations and developers looking to leverage the power of large language models.\" additional_kwargs={} response_metadata={'token_usage': {'completion_tokens': 414, 'prompt_tokens': 16, 'total_tokens': 430, 'completion_time': 1.070492851, 'prompt_time': 0.010645754, 'queue_time': 0.268228231, 'total_time': 1.081138605}, 'model_name': 'llama3-70b-8192', 'system_fingerprint': 'fp_bf16903a67', 'finish_reason': 'stop', 'logprobs': None} id='run--c265689a-8cde-4bc4-9c61-0894d6e7e696-0' usage_metadata={'input_tokens': 16, 'output_tokens': 414, 'total_tokens': 430}\n"
     ]
    }
   ],
   "source": [
    "query = \"what is langchain framework?\"\n",
    "response = cached_rag_chain(query)\n",
    "print(response)"
   ]
  },
  {
   "cell_type": "code",
   "execution_count": 72,
   "id": "bee36645",
   "metadata": {},
   "outputs": [
    {
     "name": "stdout",
     "output_type": "stream",
     "text": [
      "***CACHE MISS – EXECUTING MODEL***\n",
      "EXECUTION TIME: 1.85 seconds\n",
      "content=\"The United Nations (UN) was established in 1945 in the aftermath of World War II with the aim of promoting peace, security, and cooperation among nations. The devastating consequences of the war, which resulted in millions of deaths, widespread destruction, and a global economic crisis, led to a collective desire to create an international organization that could prevent such catastrophes from happening again.\\n\\nHere are some key reasons why the United Nations was established:\\n\\n1. **Preventing Future Wars**: The UN was created to prevent future wars and promote collective security. The League of Nations, established after World War I, had failed to prevent the outbreak of World War II. The UN was designed to be a more effective and robust international organization that could respond to threats to peace and security.\\n2. **Promoting International Cooperation**: The UN was established to foster international cooperation and collaboration on a range of issues, including economic development, human rights, and social progress. The organization aimed to provide a platform for countries to work together to address common challenges and achieve shared goals.\\n3. **Encouraging Diplomacy**: The UN was designed to promote diplomacy and dialogue as a means of resolving conflicts peacefully. By providing a forum for countries to engage in diplomatic efforts, the UN aimed to reduce the risk of war and promote peaceful resolution of disputes.\\n4. **Protecting Human Rights**: The UN was established to promote and protect human rights, which were enshrined in the Universal Declaration of Human Rights in 1948. The organization recognized that human rights are essential for dignity, freedom, and peace, and sought to promote respect for these rights worldwide.\\n5. **Addressing Global Challenges**: The UN was created to address global challenges such as poverty, hunger, and disease, which were exacerbated by the war. The organization aimed to coordinate international efforts to address these challenges and promote sustainable development.\\n6. **Replacing the League of Nations**: The League of Nations, established after World War I, had failed to prevent the outbreak of World War II. The UN was created to replace the League and provide a more effective international organization that could respond to the challenges of the post-war era.\\n7. **Reflecting the Changing Global Landscape**: The UN was established in recognition of the changing global landscape, which was characterized by the rise of new powers, the decline of colonial empires, and the emergence of new international relations.\\n\\nThe UN Charter, signed on June 26, 1945, by 50 countries, set out the organization's purposes and principles, including:\\n\\n* Maintaining international peace and security\\n* Developing friendly relations among nations\\n* Achieving international cooperation in solving international problems\\n* Promoting respect for human rights and fundamental freedoms\\n* Encouraging economic and social progress\\n\\nSince its establishment, the UN has played a critical role in promoting peace, security, and development around the world, and has become a central player in global governance.\" additional_kwargs={} response_metadata={'token_usage': {'completion_tokens': 590, 'prompt_tokens': 24, 'total_tokens': 614, 'completion_time': 1.489300644, 'prompt_time': 0.01246147, 'queue_time': 0.265907475, 'total_time': 1.501762114}, 'model_name': 'llama3-70b-8192', 'system_fingerprint': 'fp_bf16903a67', 'finish_reason': 'stop', 'logprobs': None} id='run--e633704a-d59e-4e9d-8db4-290071ac92ea-0' usage_metadata={'input_tokens': 24, 'output_tokens': 590, 'total_tokens': 614}\n"
     ]
    }
   ],
   "source": [
    "query = \"Why United Nations, established in 1945 after World War II?\"\n",
    "response = cached_rag_chain(query)\n",
    "print(response)"
   ]
  },
  {
   "cell_type": "markdown",
   "id": "91586e96",
   "metadata": {},
   "source": [
    "## Cache Using LangChain"
   ]
  },
  {
   "cell_type": "code",
   "execution_count": 73,
   "id": "f3d4a97e",
   "metadata": {},
   "outputs": [],
   "source": [
    "from langchain.cache import InMemoryCache\n",
    "from langchain.globals import set_llm_cache\n",
    "from typing import Any, Dict, Tuple\n",
    "from langchain_groq import ChatGroq"
   ]
  },
  {
   "cell_type": "code",
   "execution_count": 74,
   "id": "6cd998af",
   "metadata": {},
   "outputs": [],
   "source": [
    "class DebuggableCache(InMemoryCache):\n",
    "    def __init__(self):\n",
    "        super().__init__()\n",
    "        self._cache: Dict[Tuple[str, str], Any] = {}\n",
    "\n",
    "    def lookup(self, prompt: str, llm_string: str):\n",
    "        return self._cache.get((prompt, llm_string))\n",
    "\n",
    "    def update(self, prompt: str, llm_string: str, return_val: Any):\n",
    "        self._cache[(prompt, llm_string)] = return_val\n",
    "\n",
    "    def view_cache(self):  # 👈 this is our custom method\n",
    "        return self._cache"
   ]
  },
  {
   "cell_type": "code",
   "execution_count": 75,
   "id": "c4d38a92",
   "metadata": {},
   "outputs": [],
   "source": [
    "dbg_cache = DebuggableCache()\n",
    "set_llm_cache(dbg_cache)"
   ]
  },
  {
   "cell_type": "code",
   "execution_count": 76,
   "id": "17d83fec",
   "metadata": {},
   "outputs": [],
   "source": [
    "response = llm.invoke(\"What is the capital of France?\")"
   ]
  },
  {
   "cell_type": "code",
   "execution_count": 77,
   "id": "675fc970",
   "metadata": {},
   "outputs": [
    {
     "name": "stdout",
     "output_type": "stream",
     "text": [
      "LLM Response: content='The capital of France is Paris.' additional_kwargs={} response_metadata={'token_usage': {'completion_tokens': 8, 'prompt_tokens': 17, 'total_tokens': 25, 'completion_time': 0.001423494, 'prompt_time': 0.010587425, 'queue_time': 0.265393082, 'total_time': 0.012010919}, 'model_name': 'llama3-70b-8192', 'system_fingerprint': 'fp_bf16903a67', 'finish_reason': 'stop', 'logprobs': None} id='run--e75bc567-dbf9-441e-b8a7-c06e3546470e-0' usage_metadata={'input_tokens': 17, 'output_tokens': 8, 'total_tokens': 25}\n"
     ]
    }
   ],
   "source": [
    "print(\"LLM Response:\", response)"
   ]
  },
  {
   "cell_type": "code",
   "execution_count": 78,
   "id": "083e8da3",
   "metadata": {},
   "outputs": [
    {
     "name": "stdout",
     "output_type": "stream",
     "text": [
      "\n",
      "Cache Contents:\n",
      "Prompt: [{\"lc\": 1, \"type\": \"constructor\", \"id\": [\"langchain\", \"schema\", \"messages\", \"HumanMessage\"], \"kwargs\": {\"content\": \"What is the capital of France?\", \"type\": \"human\"}}] | Cached Output: [ChatGeneration(text='The capital of France is Paris.', generation_info={'finish_reason': 'stop', 'logprobs': None}, message=AIMessage(content='The capital of France is Paris.', additional_kwargs={}, response_metadata={'token_usage': {'completion_tokens': 8, 'prompt_tokens': 17, 'total_tokens': 25, 'completion_time': 0.001423494, 'prompt_time': 0.010587425, 'queue_time': 0.265393082, 'total_time': 0.012010919}, 'model_name': 'llama3-70b-8192', 'system_fingerprint': 'fp_bf16903a67', 'finish_reason': 'stop', 'logprobs': None}, id='run--e75bc567-dbf9-441e-b8a7-c06e3546470e-0', usage_metadata={'input_tokens': 17, 'output_tokens': 8, 'total_tokens': 25}))]\n"
     ]
    }
   ],
   "source": [
    "print(\"\\nCache Contents:\")\n",
    "for k, v in dbg_cache.view_cache().items():\n",
    "    print(f\"Prompt: {k[0]} | Cached Output: {v}\")"
   ]
  },
  {
   "cell_type": "code",
   "execution_count": 79,
   "id": "63916e9c",
   "metadata": {},
   "outputs": [],
   "source": [
    "response = llm.invoke(\"What is the capital of France?\")"
   ]
  },
  {
   "cell_type": "code",
   "execution_count": 80,
   "id": "a15550d7",
   "metadata": {},
   "outputs": [
    {
     "data": {
      "text/plain": [
       "AIMessage(content='The capital of France is Paris.', additional_kwargs={}, response_metadata={'token_usage': {'completion_tokens': 8, 'prompt_tokens': 17, 'total_tokens': 25, 'completion_time': 0.001423494, 'prompt_time': 0.010587425, 'queue_time': 0.265393082, 'total_time': 0.012010919}, 'model_name': 'llama3-70b-8192', 'system_fingerprint': 'fp_bf16903a67', 'finish_reason': 'stop', 'logprobs': None}, id='run--e75bc567-dbf9-441e-b8a7-c06e3546470e-0', usage_metadata={'input_tokens': 17, 'output_tokens': 8, 'total_tokens': 25})"
      ]
     },
     "execution_count": 80,
     "metadata": {},
     "output_type": "execute_result"
    }
   ],
   "source": [
    "response"
   ]
  },
  {
   "cell_type": "code",
   "execution_count": 81,
   "id": "14f68711",
   "metadata": {},
   "outputs": [
    {
     "name": "stdout",
     "output_type": "stream",
     "text": [
      "LLM Response: content=\"Here is a 1000-word essay on the importance of science and its relation to mathematics:\\n\\nScience and mathematics are two interconnected fields that have revolutionized the way we understand the world around us. Science, in its broadest sense, is the systematic study of the structure and behavior of the natural and physical world, while mathematics is the language used to describe and analyze these phenomena. Together, they form an indispensable partnership that has led to countless discoveries, innovations, and improvements in our daily lives.\\n\\nThe significance of science lies in its ability to explain the underlying principles and mechanisms that govern the natural world. From the laws of motion to the behavior of atoms and molecules, science provides a framework for understanding the intricate web of relationships that exist between different phenomena. Mathematics, on the other hand, is the tool used to quantify and analyze these relationships, allowing scientists to make predictions, test hypotheses, and draw conclusions.\\n\\nOne of the most critical aspects of science is its reliance on empirical evidence and observation. Scientists use a variety of methods, including experimentation, measurement, and data analysis, to collect and interpret data. Mathematics plays a vital role in this process, as it provides the framework for analyzing and interpreting the data. Statistical analysis, for example, is a fundamental tool in many scientific disciplines, allowing researchers to identify patterns, trends, and correlations within large datasets.\\n\\nThe importance of mathematics in science cannot be overstated. Mathematics provides a precise and elegant language for describing complex phenomena, allowing scientists to model and simulate real-world systems. This, in turn, enables researchers to make predictions, test hypotheses, and optimize systems. From the orbits of celestial bodies to the behavior of subatomic particles, mathematics is essential for understanding the underlying principles that govern the natural world.\\n\\nOne of the most significant applications of science and mathematics is in the field of physics. Physics is the study of the fundamental laws of the universe, and mathematics is the language used to describe these laws. From Newton's laws of motion to Einstein's theory of relativity, mathematics has played a central role in the development of our understanding of the physical world. The discovery of gravitational waves, for example, was only possible through the use of advanced mathematical techniques, including differential geometry and numerical analysis.\\n\\nAnother area where science and mathematics have had a profound impact is in the field of engineering. Engineers use mathematical models and algorithms to design, optimize, and analyze complex systems, from bridges and buildings to electronic circuits and computer networks. The development of new materials, technologies, and systems relies heavily on the application of mathematical principles, such as calculus, differential equations, and linear algebra.\\n\\nIn addition to its practical applications, science and mathematics have also had a profound impact on our understanding of the world and our place within it. The discovery of DNA, for example, has revolutionized our understanding of genetics and the natural world, while the study of cosmology has provided insights into the origins and evolution of the universe. Mathematics has played a critical role in these discoveries, providing the tools and techniques necessary for analyzing and interpreting complex data.\\n\\nThe importance of science and mathematics education cannot be overstated. As the world becomes increasingly complex and interconnected, the need for individuals with a strong foundation in science and mathematics has never been greater. Science and mathematics education provides students with critical thinking skills, problem-solving abilities, and a deeper understanding of the world around them.\\n\\nFurthermore, science and mathematics have the power to inspire and motivate individuals, particularly young people, to pursue careers in these fields. The wonders of science and mathematics have the ability to captivate and fascinate, encouraging individuals to explore, discover, and innovate. The next generation of scientists, engineers, and mathematicians will be critical in addressing the complex challenges facing our world, from climate change to sustainable energy, and it is essential that we provide them with the skills and knowledge necessary to succeed.\\n\\nIn conclusion, science and mathematics are two interconnected fields that have had a profound impact on our understanding of the world and our place within it. The importance of science lies in its ability to explain the underlying principles and mechanisms that govern the natural world, while mathematics provides the language and tools necessary for analyzing and interpreting complex phenomena. The applications of science and mathematics are vast and varied, from physics and engineering to medicine and technology. As we move forward in an increasingly complex and interconnected world, it is essential that we continue to prioritize science and mathematics education, inspiring and motivating the next generation of scientists, engineers, and mathematicians to pursue careers in these fields.\\n\\nThe relationship between science and mathematics is one of mutual dependence. Mathematics provides the tools and techniques necessary for scientists to analyze and interpret data, while science provides the context and applications for mathematical concepts. This interdependence has led to countless discoveries and innovations, from the laws of motion to the discovery of DNA.\\n\\nOne of the most significant contributions of science and mathematics has been in the field of medicine. The development of new medical treatments, diagnostic tools, and surgical procedures relies heavily on the application of mathematical principles, such as statistics, differential equations, and linear algebra. The human genome project, for example, was only possible through the use of advanced mathematical techniques, including bioinformatics and computational biology.\\n\\nIn addition to its practical applications, science and mathematics have also had a profound impact on our understanding of the natural world. The discovery of plate tectonics, for example, has revolutionized our understanding of the Earth's geology, while the study of ecology has provided insights into the complex relationships between living organisms and their environments. Mathematics has played a critical role in these discoveries, providing the tools and techniques necessary for analyzing and interpreting complex data.\\n\\nThe importance of science and mathematics education cannot be overstated. As the world becomes increasingly complex and interconnected, the need for individuals with a strong foundation in science and mathematics has never been greater. Science and mathematics education provides students with critical thinking skills, problem-solving abilities, and a deeper understanding of the world around them.\\n\\nFurthermore, science and mathematics have the power to inspire and motivate individuals, particularly young people, to pursue careers in these fields. The wonders of science and mathematics have the ability to captivate and fascinate, encouraging individuals to explore, discover, and innovate. The next generation of scientists, engineers, and mathematicians will be critical in addressing the complex challenges facing our world, from climate change to sustainable energy, and it is essential that we provide them with the skills and knowledge necessary to succeed.\\n\\nIn conclusion, science and mathematics are two interconnected fields that have had a profound impact on our understanding of the world and our place within it. The importance of science lies in its ability to explain the underlying principles and mechanisms that govern the natural world, while mathematics provides the language and tools necessary for analyzing and interpreting complex phenomena. The applications of science and mathematics are vast and varied, from physics and engineering to medicine and technology. As we move forward in an increasingly complex and interconnected world, it is essential that we continue to prioritize science and mathematics education, inspiring and motivating the next generation of scientists, engineers, and mathematicians to pursue careers in these fields.\\n\\nThe relationship between science and mathematics is one of mutual dependence. Mathematics provides the tools and techniques necessary for scientists to analyze and interpret data, while science provides the context and applications for mathematical concepts. This interdependence has led to countless discoveries and innovations, from the laws of motion to the discovery of DNA.\\n\\nOne of the most significant contributions of science and mathematics has been in the field of technology. The development of new technologies, from computers and smartphones to medical imaging and diagnostic tools, relies heavily on the application of mathematical principles, such as algorithms, data analysis, and computational complexity theory. The internet, for example, is a mathematical construct, relying on complex algorithms and data structures to enable communication and information exchange.\\n\\nIn addition to its practical applications, science and mathematics have also had a profound impact on our understanding of the natural world. The discovery of dark matter and dark energy, for example, has revolutionized our understanding of the universe, while the study of chaos theory has provided insights into the complex behavior of nonlinear systems. Mathematics has played a critical role in these discoveries, providing the tools and techniques necessary for analyzing and interpreting complex data.\\n\\nThe importance of science and mathematics education cannot be overstated. As the world becomes increasingly complex and interconnected, the need for individuals with a strong foundation in science and mathematics has never been greater. Science and mathematics education provides students with critical thinking skills, problem-solving abilities, and a deeper understanding of the world around them.\\n\\nFurthermore, science and mathematics have the power to inspire and motivate individuals, particularly young people, to pursue careers in these fields. The wonders of science and mathematics have the ability to captivate and fascinate, encouraging individuals to explore, discover, and innovate. The next generation of scientists, engineers, and mathematicians will be critical in addressing the complex challenges facing our world, from climate change to sustainable energy, and it is essential that we provide them with the skills and knowledge necessary to succeed.\\n\\nIn conclusion, science and mathematics are two interconnected fields that have had a profound impact on our understanding of the world and our place within it. The importance of science lies in its ability to explain the underlying principles and mechanisms that govern the natural world, while mathematics provides the language and tools necessary for analyzing and interpreting complex phenomena. The applications of science and mathematics are vast and varied, from physics and engineering to medicine and technology. As we move forward in an increasingly complex and interconnected world, it is essential that we continue to prioritize science and mathematics education, inspiring and motivating the next generation of scientists, engineers, and mathematicians to pursue careers in these fields.\\n\\nI hope this essay meets your requirements!\" additional_kwargs={} response_metadata={'token_usage': {'completion_tokens': 1946, 'prompt_tokens': 29, 'total_tokens': 1975, 'completion_time': 4.178522013, 'prompt_time': 0.011391701, 'queue_time': 0.267647159, 'total_time': 4.189913714}, 'model_name': 'llama3-70b-8192', 'system_fingerprint': 'fp_bf16903a67', 'finish_reason': 'stop', 'logprobs': None} id='run--dc77a395-36e3-4f9a-91a6-fe1c5dda818e-0' usage_metadata={'input_tokens': 29, 'output_tokens': 1946, 'total_tokens': 1975}\n"
     ]
    }
   ],
   "source": [
    "# 👇 Ask something\n",
    "response = llm.invoke(\"give me 1000 lines of essay on science and give the importance of it regarding mathematics?\")\n",
    "print(\"LLM Response:\", response)"
   ]
  },
  {
   "cell_type": "code",
   "execution_count": null,
   "id": "283bd993",
   "metadata": {},
   "outputs": [],
   "source": []
  }
 ],
 "metadata": {
  "kernelspec": {
   "display_name": "venv",
   "language": "python",
   "name": "python3"
  },
  "language_info": {
   "codemirror_mode": {
    "name": "ipython",
    "version": 3
   },
   "file_extension": ".py",
   "mimetype": "text/x-python",
   "name": "python",
   "nbconvert_exporter": "python",
   "pygments_lexer": "ipython3",
   "version": "3.10.0"
  }
 },
 "nbformat": 4,
 "nbformat_minor": 5
}
