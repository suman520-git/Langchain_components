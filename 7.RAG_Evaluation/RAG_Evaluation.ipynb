{
 "cells": [
  {
   "cell_type": "markdown",
   "id": "0f18ba33",
   "metadata": {},
   "source": [
    "raga:https://docs.ragas.io/en/latest/getstarted/\n",
    "\n",
    "TrueLence:https://www.trulens.org/\n",
    "\n",
    "ares:https://github.com/stanford-futuredata/ARES?tab=readme-ov-file#section3"
   ]
  },
  {
   "cell_type": "code",
   "execution_count": 1,
   "id": "8e931011",
   "metadata": {},
   "outputs": [],
   "source": [
    "from langchain.document_loaders import TextLoader\n",
    "from langchain.prompts import ChatPromptTemplate\n",
    "from langchain_core.runnables import RunnablePassthrough\n",
    "from langchain_core.output_parsers import StrOutputParser\n",
    "from langchain_community.vectorstores import FAISS\n",
    "from langchain_groq import ChatGroq\n",
    "from langchain_community.embeddings import HuggingFaceBgeEmbeddings\n",
    "from langchain_community.embeddings import HuggingFaceEmbeddings\n",
    "from langchain_core.output_parsers import StrOutputParser\n",
    "from langchain.text_splitter import RecursiveCharacterTextSplitter"
   ]
  },
  {
   "cell_type": "code",
   "execution_count": 9,
   "id": "4e85f4d5",
   "metadata": {},
   "outputs": [
    {
     "name": "stdout",
     "output_type": "stream",
     "text": [
      "Collecting ragas\n",
      "  Downloading ragas-0.3.1-py3-none-any.whl.metadata (2.6 kB)\n",
      "Requirement already satisfied: numpy in d:\\archieve\\langchain_components\\venv\\lib\\site-packages (from ragas) (2.2.6)\n",
      "Collecting datasets (from ragas)\n",
      "  Using cached datasets-4.0.0-py3-none-any.whl.metadata (19 kB)\n",
      "Requirement already satisfied: tiktoken in d:\\archieve\\langchain_components\\venv\\lib\\site-packages (from ragas) (0.9.0)\n",
      "Requirement already satisfied: langchain in d:\\archieve\\langchain_components\\venv\\lib\\site-packages (from ragas) (0.3.26)\n",
      "Requirement already satisfied: langchain-core in d:\\archieve\\langchain_components\\venv\\lib\\site-packages (from ragas) (0.3.67)\n",
      "Requirement already satisfied: langchain-community in d:\\archieve\\langchain_components\\venv\\lib\\site-packages (from ragas) (0.3.27)\n",
      "Requirement already satisfied: langchain_openai in d:\\archieve\\langchain_components\\venv\\lib\\site-packages (from ragas) (0.3.27)\n",
      "Requirement already satisfied: nest-asyncio in d:\\archieve\\langchain_components\\venv\\lib\\site-packages (from ragas) (1.6.0)\n",
      "Collecting appdirs (from ragas)\n",
      "  Using cached appdirs-1.4.4-py2.py3-none-any.whl.metadata (9.0 kB)\n",
      "Requirement already satisfied: pydantic>=2 in d:\\archieve\\langchain_components\\venv\\lib\\site-packages (from ragas) (2.11.7)\n",
      "Requirement already satisfied: openai>1 in d:\\archieve\\langchain_components\\venv\\lib\\site-packages (from ragas) (1.93.0)\n",
      "Collecting diskcache>=5.6.3 (from ragas)\n",
      "  Using cached diskcache-5.6.3-py3-none-any.whl.metadata (20 kB)\n",
      "Requirement already satisfied: anyio<5,>=3.5.0 in d:\\archieve\\langchain_components\\venv\\lib\\site-packages (from openai>1->ragas) (4.9.0)\n",
      "Requirement already satisfied: distro<2,>=1.7.0 in d:\\archieve\\langchain_components\\venv\\lib\\site-packages (from openai>1->ragas) (1.9.0)\n",
      "Requirement already satisfied: httpx<1,>=0.23.0 in d:\\archieve\\langchain_components\\venv\\lib\\site-packages (from openai>1->ragas) (0.28.1)\n",
      "Requirement already satisfied: jiter<1,>=0.4.0 in d:\\archieve\\langchain_components\\venv\\lib\\site-packages (from openai>1->ragas) (0.10.0)\n",
      "Requirement already satisfied: sniffio in d:\\archieve\\langchain_components\\venv\\lib\\site-packages (from openai>1->ragas) (1.3.1)\n",
      "Requirement already satisfied: tqdm>4 in d:\\archieve\\langchain_components\\venv\\lib\\site-packages (from openai>1->ragas) (4.67.1)\n",
      "Requirement already satisfied: typing-extensions<5,>=4.11 in d:\\archieve\\langchain_components\\venv\\lib\\site-packages (from openai>1->ragas) (4.14.0)\n",
      "Requirement already satisfied: exceptiongroup>=1.0.2 in d:\\archieve\\langchain_components\\venv\\lib\\site-packages (from anyio<5,>=3.5.0->openai>1->ragas) (1.3.0)\n",
      "Requirement already satisfied: idna>=2.8 in d:\\archieve\\langchain_components\\venv\\lib\\site-packages (from anyio<5,>=3.5.0->openai>1->ragas) (3.10)\n",
      "Requirement already satisfied: certifi in d:\\archieve\\langchain_components\\venv\\lib\\site-packages (from httpx<1,>=0.23.0->openai>1->ragas) (2025.6.15)\n",
      "Requirement already satisfied: httpcore==1.* in d:\\archieve\\langchain_components\\venv\\lib\\site-packages (from httpx<1,>=0.23.0->openai>1->ragas) (1.0.9)\n",
      "Requirement already satisfied: h11>=0.16 in d:\\archieve\\langchain_components\\venv\\lib\\site-packages (from httpcore==1.*->httpx<1,>=0.23.0->openai>1->ragas) (0.16.0)\n",
      "Requirement already satisfied: annotated-types>=0.6.0 in d:\\archieve\\langchain_components\\venv\\lib\\site-packages (from pydantic>=2->ragas) (0.7.0)\n",
      "Requirement already satisfied: pydantic-core==2.33.2 in d:\\archieve\\langchain_components\\venv\\lib\\site-packages (from pydantic>=2->ragas) (2.33.2)\n",
      "Requirement already satisfied: typing-inspection>=0.4.0 in d:\\archieve\\langchain_components\\venv\\lib\\site-packages (from pydantic>=2->ragas) (0.4.1)\n",
      "Requirement already satisfied: colorama in d:\\archieve\\langchain_components\\venv\\lib\\site-packages (from tqdm>4->openai>1->ragas) (0.4.6)\n",
      "Requirement already satisfied: filelock in d:\\archieve\\langchain_components\\venv\\lib\\site-packages (from datasets->ragas) (3.18.0)\n",
      "Requirement already satisfied: pyarrow>=15.0.0 in d:\\archieve\\langchain_components\\venv\\lib\\site-packages (from datasets->ragas) (20.0.0)\n",
      "Collecting dill<0.3.9,>=0.3.0 (from datasets->ragas)\n",
      "  Using cached dill-0.3.8-py3-none-any.whl.metadata (10 kB)\n",
      "Requirement already satisfied: pandas in d:\\archieve\\langchain_components\\venv\\lib\\site-packages (from datasets->ragas) (2.3.0)\n",
      "Requirement already satisfied: requests>=2.32.2 in d:\\archieve\\langchain_components\\venv\\lib\\site-packages (from datasets->ragas) (2.32.4)\n",
      "Collecting xxhash (from datasets->ragas)\n",
      "  Using cached xxhash-3.5.0-cp310-cp310-win_amd64.whl.metadata (13 kB)\n",
      "Collecting multiprocess<0.70.17 (from datasets->ragas)\n",
      "  Using cached multiprocess-0.70.16-py310-none-any.whl.metadata (7.2 kB)\n",
      "Collecting fsspec<=2025.3.0,>=2023.1.0 (from fsspec[http]<=2025.3.0,>=2023.1.0->datasets->ragas)\n",
      "  Using cached fsspec-2025.3.0-py3-none-any.whl.metadata (11 kB)\n",
      "Requirement already satisfied: huggingface-hub>=0.24.0 in d:\\archieve\\langchain_components\\venv\\lib\\site-packages (from datasets->ragas) (0.33.2)\n",
      "Requirement already satisfied: packaging in d:\\archieve\\langchain_components\\venv\\lib\\site-packages (from datasets->ragas) (24.2)\n",
      "Requirement already satisfied: pyyaml>=5.1 in d:\\archieve\\langchain_components\\venv\\lib\\site-packages (from datasets->ragas) (6.0.2)\n",
      "Requirement already satisfied: aiohttp!=4.0.0a0,!=4.0.0a1 in d:\\archieve\\langchain_components\\venv\\lib\\site-packages (from fsspec[http]<=2025.3.0,>=2023.1.0->datasets->ragas) (3.12.13)\n",
      "Requirement already satisfied: aiohappyeyeballs>=2.5.0 in d:\\archieve\\langchain_components\\venv\\lib\\site-packages (from aiohttp!=4.0.0a0,!=4.0.0a1->fsspec[http]<=2025.3.0,>=2023.1.0->datasets->ragas) (2.6.1)\n",
      "Requirement already satisfied: aiosignal>=1.1.2 in d:\\archieve\\langchain_components\\venv\\lib\\site-packages (from aiohttp!=4.0.0a0,!=4.0.0a1->fsspec[http]<=2025.3.0,>=2023.1.0->datasets->ragas) (1.3.2)\n",
      "Requirement already satisfied: async-timeout<6.0,>=4.0 in d:\\archieve\\langchain_components\\venv\\lib\\site-packages (from aiohttp!=4.0.0a0,!=4.0.0a1->fsspec[http]<=2025.3.0,>=2023.1.0->datasets->ragas) (4.0.3)\n",
      "Requirement already satisfied: attrs>=17.3.0 in d:\\archieve\\langchain_components\\venv\\lib\\site-packages (from aiohttp!=4.0.0a0,!=4.0.0a1->fsspec[http]<=2025.3.0,>=2023.1.0->datasets->ragas) (25.3.0)\n",
      "Requirement already satisfied: frozenlist>=1.1.1 in d:\\archieve\\langchain_components\\venv\\lib\\site-packages (from aiohttp!=4.0.0a0,!=4.0.0a1->fsspec[http]<=2025.3.0,>=2023.1.0->datasets->ragas) (1.7.0)\n",
      "Requirement already satisfied: multidict<7.0,>=4.5 in d:\\archieve\\langchain_components\\venv\\lib\\site-packages (from aiohttp!=4.0.0a0,!=4.0.0a1->fsspec[http]<=2025.3.0,>=2023.1.0->datasets->ragas) (6.6.3)\n",
      "Requirement already satisfied: propcache>=0.2.0 in d:\\archieve\\langchain_components\\venv\\lib\\site-packages (from aiohttp!=4.0.0a0,!=4.0.0a1->fsspec[http]<=2025.3.0,>=2023.1.0->datasets->ragas) (0.3.2)\n",
      "Requirement already satisfied: yarl<2.0,>=1.17.0 in d:\\archieve\\langchain_components\\venv\\lib\\site-packages (from aiohttp!=4.0.0a0,!=4.0.0a1->fsspec[http]<=2025.3.0,>=2023.1.0->datasets->ragas) (1.20.1)\n",
      "Requirement already satisfied: charset_normalizer<4,>=2 in d:\\archieve\\langchain_components\\venv\\lib\\site-packages (from requests>=2.32.2->datasets->ragas) (3.4.2)\n",
      "Requirement already satisfied: urllib3<3,>=1.21.1 in d:\\archieve\\langchain_components\\venv\\lib\\site-packages (from requests>=2.32.2->datasets->ragas) (2.5.0)\n",
      "Requirement already satisfied: langchain-text-splitters<1.0.0,>=0.3.8 in d:\\archieve\\langchain_components\\venv\\lib\\site-packages (from langchain->ragas) (0.3.8)\n",
      "Requirement already satisfied: langsmith>=0.1.17 in d:\\archieve\\langchain_components\\venv\\lib\\site-packages (from langchain->ragas) (0.4.4)\n",
      "Requirement already satisfied: SQLAlchemy<3,>=1.4 in d:\\archieve\\langchain_components\\venv\\lib\\site-packages (from langchain->ragas) (2.0.41)\n",
      "Requirement already satisfied: tenacity!=8.4.0,<10.0.0,>=8.1.0 in d:\\archieve\\langchain_components\\venv\\lib\\site-packages (from langchain-core->ragas) (9.1.2)\n",
      "Requirement already satisfied: jsonpatch<2.0,>=1.33 in d:\\archieve\\langchain_components\\venv\\lib\\site-packages (from langchain-core->ragas) (1.33)\n",
      "Requirement already satisfied: jsonpointer>=1.9 in d:\\archieve\\langchain_components\\venv\\lib\\site-packages (from jsonpatch<2.0,>=1.33->langchain-core->ragas) (3.0.0)\n",
      "Requirement already satisfied: greenlet>=1 in d:\\archieve\\langchain_components\\venv\\lib\\site-packages (from SQLAlchemy<3,>=1.4->langchain->ragas) (3.2.3)\n",
      "Requirement already satisfied: orjson<4.0.0,>=3.9.14 in d:\\archieve\\langchain_components\\venv\\lib\\site-packages (from langsmith>=0.1.17->langchain->ragas) (3.10.18)\n",
      "Requirement already satisfied: requests-toolbelt<2.0.0,>=1.0.0 in d:\\archieve\\langchain_components\\venv\\lib\\site-packages (from langsmith>=0.1.17->langchain->ragas) (1.0.0)\n",
      "Requirement already satisfied: zstandard<0.24.0,>=0.23.0 in d:\\archieve\\langchain_components\\venv\\lib\\site-packages (from langsmith>=0.1.17->langchain->ragas) (0.23.0)\n",
      "Requirement already satisfied: dataclasses-json<0.7,>=0.5.7 in d:\\archieve\\langchain_components\\venv\\lib\\site-packages (from langchain-community->ragas) (0.6.7)\n",
      "Requirement already satisfied: pydantic-settings<3.0.0,>=2.4.0 in d:\\archieve\\langchain_components\\venv\\lib\\site-packages (from langchain-community->ragas) (2.10.1)\n",
      "Requirement already satisfied: httpx-sse<1.0.0,>=0.4.0 in d:\\archieve\\langchain_components\\venv\\lib\\site-packages (from langchain-community->ragas) (0.4.1)\n",
      "Requirement already satisfied: marshmallow<4.0.0,>=3.18.0 in d:\\archieve\\langchain_components\\venv\\lib\\site-packages (from dataclasses-json<0.7,>=0.5.7->langchain-community->ragas) (3.26.1)\n",
      "Requirement already satisfied: typing-inspect<1,>=0.4.0 in d:\\archieve\\langchain_components\\venv\\lib\\site-packages (from dataclasses-json<0.7,>=0.5.7->langchain-community->ragas) (0.9.0)\n",
      "Requirement already satisfied: python-dotenv>=0.21.0 in d:\\archieve\\langchain_components\\venv\\lib\\site-packages (from pydantic-settings<3.0.0,>=2.4.0->langchain-community->ragas) (1.1.1)\n",
      "Requirement already satisfied: mypy-extensions>=0.3.0 in d:\\archieve\\langchain_components\\venv\\lib\\site-packages (from typing-inspect<1,>=0.4.0->dataclasses-json<0.7,>=0.5.7->langchain-community->ragas) (1.1.0)\n",
      "Requirement already satisfied: regex>=2022.1.18 in d:\\archieve\\langchain_components\\venv\\lib\\site-packages (from tiktoken->ragas) (2024.11.6)\n",
      "Requirement already satisfied: python-dateutil>=2.8.2 in d:\\archieve\\langchain_components\\venv\\lib\\site-packages (from pandas->datasets->ragas) (2.9.0.post0)\n",
      "Requirement already satisfied: pytz>=2020.1 in d:\\archieve\\langchain_components\\venv\\lib\\site-packages (from pandas->datasets->ragas) (2025.2)\n",
      "Requirement already satisfied: tzdata>=2022.7 in d:\\archieve\\langchain_components\\venv\\lib\\site-packages (from pandas->datasets->ragas) (2025.2)\n",
      "Requirement already satisfied: six>=1.5 in d:\\archieve\\langchain_components\\venv\\lib\\site-packages (from python-dateutil>=2.8.2->pandas->datasets->ragas) (1.17.0)\n",
      "Downloading ragas-0.3.1-py3-none-any.whl (190 kB)\n",
      "Using cached diskcache-5.6.3-py3-none-any.whl (45 kB)\n",
      "Using cached appdirs-1.4.4-py2.py3-none-any.whl (9.6 kB)\n",
      "Using cached datasets-4.0.0-py3-none-any.whl (494 kB)\n",
      "Using cached dill-0.3.8-py3-none-any.whl (116 kB)\n",
      "Using cached fsspec-2025.3.0-py3-none-any.whl (193 kB)\n",
      "Using cached multiprocess-0.70.16-py310-none-any.whl (134 kB)\n",
      "Using cached xxhash-3.5.0-cp310-cp310-win_amd64.whl (30 kB)\n",
      "Installing collected packages: appdirs, xxhash, fsspec, diskcache, dill, multiprocess, datasets, ragas\n",
      "\n",
      "  Attempting uninstall: fsspec\n",
      "\n",
      "    Found existing installation: fsspec 2025.5.1\n",
      "\n",
      "    Uninstalling fsspec-2025.5.1:\n",
      "\n",
      "      Successfully uninstalled fsspec-2025.5.1\n",
      "\n",
      "   ---------- ----------------------------- 2/8 [fsspec]\n",
      "   ------------------------- -------------- 5/8 [multiprocess]\n",
      "   ------------------------------ --------- 6/8 [datasets]\n",
      "   ----------------------------------- ---- 7/8 [ragas]\n",
      "   ----------------------------------- ---- 7/8 [ragas]\n",
      "   ---------------------------------------- 8/8 [ragas]\n",
      "\n",
      "Successfully installed appdirs-1.4.4 datasets-4.0.0 dill-0.3.8 diskcache-5.6.3 fsspec-2025.3.0 multiprocess-0.70.16 ragas-0.3.1 xxhash-3.5.0\n",
      "Note: you may need to restart the kernel to use updated packages.\n"
     ]
    }
   ],
   "source": [
    "pip install ragas"
   ]
  },
  {
   "cell_type": "code",
   "execution_count": 2,
   "id": "d80cd04a",
   "metadata": {},
   "outputs": [],
   "source": [
    "import os\n",
    "os.environ[\"GROQ_API_KEY\"] = os.getenv(\"GROQ_API_KEY\")\n",
    "os.environ[\"OPENAI_API_KEY\"] = os.getenv(\"OPENAI_API_KEY\")"
   ]
  },
  {
   "cell_type": "code",
   "execution_count": 3,
   "id": "099666bc",
   "metadata": {},
   "outputs": [],
   "source": [
    "loader=TextLoader(r\"D:\\Archieve\\Langchain_components\\7.RAG_Evaluation\\japan.txt\")"
   ]
  },
  {
   "cell_type": "code",
   "execution_count": 4,
   "id": "3509f877",
   "metadata": {},
   "outputs": [],
   "source": [
    "documents=loader.load()"
   ]
  },
  {
   "cell_type": "code",
   "execution_count": 5,
   "id": "3bcaa795",
   "metadata": {},
   "outputs": [
    {
     "data": {
      "text/plain": [
       "[Document(metadata={'source': 'D:\\\\Archieve\\\\Langchain_components\\\\7.RAG_Evaluation\\\\japan.txt'}, page_content='Industrial revival hope for Japan\\n\\nJapanese industry is growing faster than expected, boosting hopes that the country\\'s retreat back into recession is over.\\n\\nIndustrial output rose 2.1% - adjusted for the time of year - in January from a month earlier. At the same time, retail sales picked up faster than at any time since 1997. The news sent Tokyo shares to an eight-month high, as investors hoped for a recovery from the three quarters of contraction seen from April 2004 on. The Nikkei 225 index ended the day up 0.7% at 11,740.60 points, with the yen strengthening 0.7% against the dollar to 104.53 yen. Weaker exports, normally the engine for Japan\\'s economy in the face of weak domestic demand, had helped trigger a 0.1% contraction in the final three months of last year after two previous quarters of shrinking GDP. Only an exceptionally strong performance in the early months of 2004 kept the year as a whole from showing a decline. The output figures brought a cautiously optimistic response from economic officials. \"Overall I see a low risk of the economy falling into serious recession,\" said Bank of Japan chief Toshihiko Fukui, despite warning that other indicators - such as the growth numbers - had been worrying.\\n\\nWithin the overall industrial output figure, there were signs of a pullback from the export slowdown. Among the best-performing sectors were key overseas sales areas such as cars, chemicals and electronic goods. With US growth doing better than expected the picture for exports in early 2005 could also be one of sustained demand. Electronics were also one of the keys to the improved domestic market, with products such as flat-screen TVs in high demand during January.\\n\\nJapan\\'s last four year GDP:\\n\\nYear\\tGDP\\n2022\\t$4,256.41B\\n2021\\t$5,034.62B\\n2020\\t$5,055.59B\\n2019\\t$5,117.99B\\n\\nAs of early 2025, Japan\\'s economy exhibits signs of moderate recovery, with industrial production increasing by 2.3% month-over-month in February, slightly below initial estimates but indicating a rebound from previous contractions. Retail sales have shown consistent growth, rising by 3.9% year-on-year in January, marking the 36th consecutive month of expansion. The Nikkei 225 index has responded positively, reaching levels around 11,740.60 points, with projections suggesting it could climb to 45,400 by the end of 2025. The Japanese yen has experienced fluctuations, strengthening to 104.53 yen against the dollar, reflecting investor optimism. Despite these positive indicators, challenges persist, including concerns over export performance and demographic issues such as an aging population. The Bank of Japan remains cautiously optimistic, noting that while certain economic indicators are encouraging, vigilance is necessary to sustain growth. Overall, Japan\\'s economy appears to be on a path of gradual improvement, balancing recovery efforts with structural reforms to address long-term challenges.\\n\\nAs of mid-2025, Japan\\'s economy is experiencing a nuanced recovery characterized by moderate growth and persistent challenges. In the first quarter, real GDP contracted by 0.1%, influenced by a 1.1% month-over-month decline in industrial production in March, primarily due to the impact of U.S. tariffs on exports. Despite this, retail sales demonstrated resilience, increasing by 2.9% year-over-year in the first quarter, with notable growth in sectors like apparel and household electronics. \\nING Think\\nRTTNews\\n\\nThe Bank of Japan (BOJ) has maintained its short-term interest rate at 0.5%, citing uncertainties stemming from global trade tensions. The BOJ revised its growth projection for the fiscal year ending March 2026 from 1.1% to 0.5%, and for the following year from 1.0% to 0.7%. Inflation is now expected to reach the 2% target around the latter half of fiscal 2026. \\nReuters\\n+1\\nReuters\\n+1\\n\\nIn the financial markets, the Nikkei 225 index has shown strength, with projections suggesting it could reach 45,400 by the end of 2025, supported by corporate share buybacks and a gradual return of foreign investors. The Japanese yen has experienced fluctuations, recently trading at approximately 104.53 against the U.S. dollar, reflecting investor sentiment and monetary policy expectations.\\n三井住友DSアセットマネジメント\\n\\nOverall, while Japan\\'s economy faces headwinds from external trade pressures and domestic structural issues, indicators such as wage growth and consumer spending provide a foundation for cautious optimism. The BOJ\\'s flexible policy stance aims to navigate these challenges, balancing the goals of economic growth and price stability.')]"
      ]
     },
     "execution_count": 5,
     "metadata": {},
     "output_type": "execute_result"
    }
   ],
   "source": [
    "documents"
   ]
  },
  {
   "cell_type": "code",
   "execution_count": 6,
   "id": "c0103fc1",
   "metadata": {},
   "outputs": [],
   "source": [
    "text_splitter = RecursiveCharacterTextSplitter(chunk_size=250, chunk_overlap=50)\n",
    "splits = text_splitter.split_documents(documents)"
   ]
  },
  {
   "cell_type": "code",
   "execution_count": 7,
   "id": "155152de",
   "metadata": {},
   "outputs": [
    {
     "data": {
      "text/plain": [
       "29"
      ]
     },
     "execution_count": 7,
     "metadata": {},
     "output_type": "execute_result"
    }
   ],
   "source": [
    "len(splits)"
   ]
  },
  {
   "cell_type": "code",
   "execution_count": 10,
   "id": "aa0227f3",
   "metadata": {},
   "outputs": [
    {
     "name": "stderr",
     "output_type": "stream",
     "text": [
      "d:\\Archieve\\Langchain_components\\venv\\lib\\site-packages\\tqdm\\auto.py:21: TqdmWarning: IProgress not found. Please update jupyter and ipywidgets. See https://ipywidgets.readthedocs.io/en/stable/user_install.html\n",
      "  from .autonotebook import tqdm as notebook_tqdm\n"
     ]
    }
   ],
   "source": [
    "from ragas.llms import LangchainLLMWrapper\n",
    "llm = ChatGroq(model=\"llama3-70b-8192\")"
   ]
  },
  {
   "cell_type": "code",
   "execution_count": 11,
   "id": "2dbc832e",
   "metadata": {},
   "outputs": [
    {
     "name": "stderr",
     "output_type": "stream",
     "text": [
      "C:\\Users\\Suman Vemula\\AppData\\Local\\Temp\\ipykernel_13704\\2127729888.py:1: LangChainDeprecationWarning: The class `HuggingFaceEmbeddings` was deprecated in LangChain 0.2.2 and will be removed in 1.0. An updated version of the class exists in the :class:`~langchain-huggingface package and should be used instead. To use it run `pip install -U :class:`~langchain-huggingface` and import as `from :class:`~langchain_huggingface import HuggingFaceEmbeddings``.\n",
      "  embedding_model = HuggingFaceEmbeddings(\n"
     ]
    }
   ],
   "source": [
    "embedding_model = HuggingFaceEmbeddings(\n",
    "    model_name=\"sentence-transformers/all-MiniLM-L6-v2\"\n",
    ")"
   ]
  },
  {
   "cell_type": "code",
   "execution_count": 12,
   "id": "c2537abb",
   "metadata": {},
   "outputs": [],
   "source": [
    "vectorstore = FAISS.from_documents(documents=splits,embedding=embedding_model)"
   ]
  },
  {
   "cell_type": "code",
   "execution_count": 13,
   "id": "eea50277",
   "metadata": {},
   "outputs": [],
   "source": [
    "retriever=vectorstore.as_retriever()"
   ]
  },
  {
   "cell_type": "code",
   "execution_count": 14,
   "id": "1a6eb947",
   "metadata": {},
   "outputs": [],
   "source": [
    "# Define prompt template\n",
    "template = \"\"\"You are an assistant for question-answering tasks.\n",
    "Use the following pieces of retrieved context to answer the question.\n",
    "If you don't know the answer, just say that you don't know.\n",
    "Use two sentences maximum and keep the answer concise.\n",
    "Question: {question}\n",
    "Context: {context}\n",
    "Answer:\n",
    "\"\"\""
   ]
  },
  {
   "cell_type": "code",
   "execution_count": 15,
   "id": "89b70411",
   "metadata": {},
   "outputs": [],
   "source": [
    "prompt = ChatPromptTemplate.from_template(template)"
   ]
  },
  {
   "cell_type": "code",
   "execution_count": 16,
   "id": "c5145129",
   "metadata": {},
   "outputs": [],
   "source": [
    "rag_chain=(\n",
    "    {\"context\":retriever, \"question\":RunnablePassthrough()}\n",
    "          | prompt\n",
    "          | llm\n",
    "          | StrOutputParser()\n",
    ")"
   ]
  },
  {
   "cell_type": "code",
   "execution_count": 17,
   "id": "fbedc1a9",
   "metadata": {},
   "outputs": [],
   "source": [
    "questions = [\n",
    "    \"What is the current status of Japan's industrial production?\",\n",
    "    \"How have retail sales in Japan performed recently?\",\n",
    "    \"What did the Bank of Japan say about the economic outlook?\",\n",
    "    \"What has been the performance of the Nikkei 225 index?\",\n",
    "    \"How has the Japanese yen moved in recent times?\",\n",
    "    \"What are some challenges Japan's economy is still facing?\"\n",
    "]"
   ]
  },
  {
   "cell_type": "code",
   "execution_count": 18,
   "id": "440926c6",
   "metadata": {},
   "outputs": [],
   "source": [
    "ground_truths = [\"Japan's industrial production grew by 2.3% in February 2025, indicating a moderate recovery after previous declines.\",\n",
    " 'Retail sales in Japan rose by 3.9% year-on-year in January 2025, marking the 36th consecutive month of growth.',\n",
    " 'The Bank of Japan stated that there is a low risk of serious recession, but warned of uncertainties and revised growth forecasts downward.',\n",
    " 'The Nikkei 225 index has performed strongly, reaching around 11,740 points and is projected to climb to 45,400 by the end of 2025.',\n",
    " 'The Japanese yen has strengthened to around 104.53 against the US dollar, reflecting renewed investor optimism.',\n",
    " \"Japan's economy continues to face challenges such as weak exports, trade tensions, and an aging population despite recent growth.\"]"
   ]
  },
  {
   "cell_type": "code",
   "execution_count": 19,
   "id": "67dce5b0",
   "metadata": {},
   "outputs": [
    {
     "data": {
      "text/plain": [
       "'Retail sales in Japan have shown consistent growth, rising by 3.9% year-on-year in January, marking the 36th consecutive month of expansion. Additionally, retail sales picked up faster than at any time since 1997.'"
      ]
     },
     "execution_count": 19,
     "metadata": {},
     "output_type": "execute_result"
    }
   ],
   "source": [
    "rag_chain.invoke(questions[1])"
   ]
  },
  {
   "cell_type": "code",
   "execution_count": 20,
   "id": "f2f5611b",
   "metadata": {},
   "outputs": [],
   "source": [
    "answer=[]\n",
    "context=[]"
   ]
  },
  {
   "cell_type": "code",
   "execution_count": 21,
   "id": "0c3f2da6",
   "metadata": {},
   "outputs": [],
   "source": [
    "for query in questions:\n",
    "  answer.append(rag_chain.invoke(query))\n",
    "  context.append([docs.page_content  for docs in retriever.invoke(query)])"
   ]
  },
  {
   "cell_type": "code",
   "execution_count": 22,
   "id": "3149df01",
   "metadata": {},
   "outputs": [
    {
     "data": {
      "text/plain": [
       "[\"As of mid-2025, Japan's industrial production experienced a 1.1% month-over-month decline. However, earlier in 2025, industrial production had increased by 2.3% month-over-month in February, indicating a rebound from previous contractions.\",\n",
       " 'Retail sales in Japan have shown consistent growth, rising by 3.9% year-on-year in January, marking the 36th consecutive month of expansion. Additionally, retail sales picked up faster than at any time since 1997.',\n",
       " 'The Bank of Japan remains cautiously optimistic about the economic outlook, noting that while certain economic indicators are encouraging, vigilance is necessary to sustain growth. However, it also revised its growth projection for the fiscal year ending March 2026 from 1.1% to 0.5% due to uncertainties stemming from global trade tensions.',\n",
       " 'The Nikkei 225 index has shown strength, reaching levels around 11,740.60 points and is projected to reach 45,400 by the end of 2025. It has also shown a positive performance, ending the day up 0.7% at 11,740.60 points.',\n",
       " 'The Japanese yen has experienced fluctuations, recently strengthening to 104.53 yen against the dollar. However, its movement has been influenced by various factors, including investor sentiment and monetary policy expectations.',\n",
       " \"Japan's economy is still facing challenges including concerns over export performance and demographic issues such as an aging population. Additionally, weak domestic demand is also a persistent issue.\"]"
      ]
     },
     "execution_count": 22,
     "metadata": {},
     "output_type": "execute_result"
    }
   ],
   "source": [
    "answer"
   ]
  },
  {
   "cell_type": "code",
   "execution_count": 23,
   "id": "e1d97862",
   "metadata": {},
   "outputs": [
    {
     "data": {
      "text/plain": [
       "[[\"As of early 2025, Japan's economy exhibits signs of moderate recovery, with industrial production increasing by 2.3% month-over-month in February, slightly below initial estimates but indicating a rebound from previous contractions. Retail sales\",\n",
       "  \"Industrial revival hope for Japan\\n\\nJapanese industry is growing faster than expected, boosting hopes that the country's retreat back into recession is over.\",\n",
       "  \"As of mid-2025, Japan's economy is experiencing a nuanced recovery characterized by moderate growth and persistent challenges. In the first quarter, real GDP contracted by 0.1%, influenced by a 1.1% month-over-month decline in industrial production\",\n",
       "  \"Japan's last four year GDP:\\n\\nYear\\tGDP\\n2022\\t$4,256.41B\\n2021\\t$5,034.62B\\n2020\\t$5,055.59B\\n2019\\t$5,117.99B\"],\n",
       " [\"As of early 2025, Japan's economy exhibits signs of moderate recovery, with industrial production increasing by 2.3% month-over-month in February, slightly below initial estimates but indicating a rebound from previous contractions. Retail sales\",\n",
       "  'rebound from previous contractions. Retail sales have shown consistent growth, rising by 3.9% year-on-year in January, marking the 36th consecutive month of expansion. The Nikkei 225 index has responded positively, reaching levels around 11,740.60',\n",
       "  'Industrial output rose 2.1% - adjusted for the time of year - in January from a month earlier. At the same time, retail sales picked up faster than at any time since 1997. The news sent Tokyo shares to an eight-month high, as investors hoped for a',\n",
       "  \"Industrial revival hope for Japan\\n\\nJapanese industry is growing faster than expected, boosting hopes that the country's retreat back into recession is over.\"],\n",
       " [\"population. The Bank of Japan remains cautiously optimistic, noting that while certain economic indicators are encouraging, vigilance is necessary to sustain growth. Overall, Japan's economy appears to be on a path of gradual improvement, balancing\",\n",
       "  'The Bank of Japan (BOJ) has maintained its short-term interest rate at 0.5%, citing uncertainties stemming from global trade tensions. The BOJ revised its growth projection for the fiscal year ending March 2026 from 1.1% to 0.5%, and for the',\n",
       "  \"Overall, while Japan's economy faces headwinds from external trade pressures and domestic structural issues, indicators such as wage growth and consumer spending provide a foundation for cautious optimism. The BOJ's flexible policy stance aims to\",\n",
       "  'yen against the dollar, reflecting investor optimism. Despite these positive indicators, challenges persist, including concerns over export performance and demographic issues such as an aging population. The Bank of Japan remains cautiously'],\n",
       " ['In the financial markets, the Nikkei 225 index has shown strength, with projections suggesting it could reach 45,400 by the end of 2025, supported by corporate share buybacks and a gradual return of foreign investors. The Japanese yen has',\n",
       "  'to an eight-month high, as investors hoped for a recovery from the three quarters of contraction seen from April 2004 on. The Nikkei 225 index ended the day up 0.7% at 11,740.60 points, with the yen strengthening 0.7% against the dollar to 104.53',\n",
       "  'rebound from previous contractions. Retail sales have shown consistent growth, rising by 3.9% year-on-year in January, marking the 36th consecutive month of expansion. The Nikkei 225 index has responded positively, reaching levels around 11,740.60',\n",
       "  'positively, reaching levels around 11,740.60 points, with projections suggesting it could climb to 45,400 by the end of 2025. The Japanese yen has experienced fluctuations, strengthening to 104.53 yen against the dollar, reflecting investor'],\n",
       " ['return of foreign investors. The Japanese yen has experienced fluctuations, recently trading at approximately 104.53 against the U.S. dollar, reflecting investor sentiment and monetary policy expectations.',\n",
       "  'positively, reaching levels around 11,740.60 points, with projections suggesting it could climb to 45,400 by the end of 2025. The Japanese yen has experienced fluctuations, strengthening to 104.53 yen against the dollar, reflecting investor',\n",
       "  'yen against the dollar, reflecting investor optimism. Despite these positive indicators, challenges persist, including concerns over export performance and demographic issues such as an aging population. The Bank of Japan remains cautiously',\n",
       "  \"strengthening 0.7% against the dollar to 104.53 yen. Weaker exports, normally the engine for Japan's economy in the face of weak domestic demand, had helped trigger a 0.1% contraction in the final three months of last year after two previous\"],\n",
       " [\"As of mid-2025, Japan's economy is experiencing a nuanced recovery characterized by moderate growth and persistent challenges. In the first quarter, real GDP contracted by 0.1%, influenced by a 1.1% month-over-month decline in industrial production\",\n",
       "  \"As of early 2025, Japan's economy exhibits signs of moderate recovery, with industrial production increasing by 2.3% month-over-month in February, slightly below initial estimates but indicating a rebound from previous contractions. Retail sales\",\n",
       "  \"strengthening 0.7% against the dollar to 104.53 yen. Weaker exports, normally the engine for Japan's economy in the face of weak domestic demand, had helped trigger a 0.1% contraction in the final three months of last year after two previous\",\n",
       "  'yen against the dollar, reflecting investor optimism. Despite these positive indicators, challenges persist, including concerns over export performance and demographic issues such as an aging population. The Bank of Japan remains cautiously']]"
      ]
     },
     "execution_count": 23,
     "metadata": {},
     "output_type": "execute_result"
    }
   ],
   "source": [
    "context"
   ]
  },
  {
   "cell_type": "code",
   "execution_count": 24,
   "id": "9f85b891",
   "metadata": {},
   "outputs": [],
   "source": [
    "contexts = [\" \".join(ref) if isinstance(ref, list) else ref for ref in context]"
   ]
  },
  {
   "cell_type": "code",
   "execution_count": 25,
   "id": "72b8f68f",
   "metadata": {},
   "outputs": [
    {
     "data": {
      "text/plain": [
       "\"As of early 2025, Japan's economy exhibits signs of moderate recovery, with industrial production increasing by 2.3% month-over-month in February, slightly below initial estimates but indicating a rebound from previous contractions. Retail sales Industrial revival hope for Japan\\n\\nJapanese industry is growing faster than expected, boosting hopes that the country's retreat back into recession is over. As of mid-2025, Japan's economy is experiencing a nuanced recovery characterized by moderate growth and persistent challenges. In the first quarter, real GDP contracted by 0.1%, influenced by a 1.1% month-over-month decline in industrial production Japan's last four year GDP:\\n\\nYear\\tGDP\\n2022\\t$4,256.41B\\n2021\\t$5,034.62B\\n2020\\t$5,055.59B\\n2019\\t$5,117.99B\""
      ]
     },
     "execution_count": 25,
     "metadata": {},
     "output_type": "execute_result"
    }
   ],
   "source": [
    "contexts[0]"
   ]
  },
  {
   "cell_type": "code",
   "execution_count": 26,
   "id": "6442d133",
   "metadata": {},
   "outputs": [
    {
     "data": {
      "text/plain": [
       "\"Japan's industrial production grew by 2.3% in February 2025, indicating a moderate recovery after previous declines.\""
      ]
     },
     "execution_count": 26,
     "metadata": {},
     "output_type": "execute_result"
    }
   ],
   "source": [
    "ground_truths[0]"
   ]
  },
  {
   "cell_type": "code",
   "execution_count": 27,
   "id": "2269f60c",
   "metadata": {},
   "outputs": [],
   "source": [
    "# To dict\n",
    "data = {\n",
    "    \"question\": questions,\n",
    "    \"answer\": answer,\n",
    "    \"contexts\": context,\n",
    "    \"reference\": ground_truths\n",
    "}"
   ]
  },
  {
   "cell_type": "code",
   "execution_count": 28,
   "id": "f28b3e59",
   "metadata": {},
   "outputs": [
    {
     "data": {
      "text/plain": [
       "{'question': [\"What is the current status of Japan's industrial production?\",\n",
       "  'How have retail sales in Japan performed recently?',\n",
       "  'What did the Bank of Japan say about the economic outlook?',\n",
       "  'What has been the performance of the Nikkei 225 index?',\n",
       "  'How has the Japanese yen moved in recent times?',\n",
       "  \"What are some challenges Japan's economy is still facing?\"],\n",
       " 'answer': [\"As of mid-2025, Japan's industrial production experienced a 1.1% month-over-month decline. However, earlier in 2025, industrial production had increased by 2.3% month-over-month in February, indicating a rebound from previous contractions.\",\n",
       "  'Retail sales in Japan have shown consistent growth, rising by 3.9% year-on-year in January, marking the 36th consecutive month of expansion. Additionally, retail sales picked up faster than at any time since 1997.',\n",
       "  'The Bank of Japan remains cautiously optimistic about the economic outlook, noting that while certain economic indicators are encouraging, vigilance is necessary to sustain growth. However, it also revised its growth projection for the fiscal year ending March 2026 from 1.1% to 0.5% due to uncertainties stemming from global trade tensions.',\n",
       "  'The Nikkei 225 index has shown strength, reaching levels around 11,740.60 points and is projected to reach 45,400 by the end of 2025. It has also shown a positive performance, ending the day up 0.7% at 11,740.60 points.',\n",
       "  'The Japanese yen has experienced fluctuations, recently strengthening to 104.53 yen against the dollar. However, its movement has been influenced by various factors, including investor sentiment and monetary policy expectations.',\n",
       "  \"Japan's economy is still facing challenges including concerns over export performance and demographic issues such as an aging population. Additionally, weak domestic demand is also a persistent issue.\"],\n",
       " 'contexts': [[\"As of early 2025, Japan's economy exhibits signs of moderate recovery, with industrial production increasing by 2.3% month-over-month in February, slightly below initial estimates but indicating a rebound from previous contractions. Retail sales\",\n",
       "   \"Industrial revival hope for Japan\\n\\nJapanese industry is growing faster than expected, boosting hopes that the country's retreat back into recession is over.\",\n",
       "   \"As of mid-2025, Japan's economy is experiencing a nuanced recovery characterized by moderate growth and persistent challenges. In the first quarter, real GDP contracted by 0.1%, influenced by a 1.1% month-over-month decline in industrial production\",\n",
       "   \"Japan's last four year GDP:\\n\\nYear\\tGDP\\n2022\\t$4,256.41B\\n2021\\t$5,034.62B\\n2020\\t$5,055.59B\\n2019\\t$5,117.99B\"],\n",
       "  [\"As of early 2025, Japan's economy exhibits signs of moderate recovery, with industrial production increasing by 2.3% month-over-month in February, slightly below initial estimates but indicating a rebound from previous contractions. Retail sales\",\n",
       "   'rebound from previous contractions. Retail sales have shown consistent growth, rising by 3.9% year-on-year in January, marking the 36th consecutive month of expansion. The Nikkei 225 index has responded positively, reaching levels around 11,740.60',\n",
       "   'Industrial output rose 2.1% - adjusted for the time of year - in January from a month earlier. At the same time, retail sales picked up faster than at any time since 1997. The news sent Tokyo shares to an eight-month high, as investors hoped for a',\n",
       "   \"Industrial revival hope for Japan\\n\\nJapanese industry is growing faster than expected, boosting hopes that the country's retreat back into recession is over.\"],\n",
       "  [\"population. The Bank of Japan remains cautiously optimistic, noting that while certain economic indicators are encouraging, vigilance is necessary to sustain growth. Overall, Japan's economy appears to be on a path of gradual improvement, balancing\",\n",
       "   'The Bank of Japan (BOJ) has maintained its short-term interest rate at 0.5%, citing uncertainties stemming from global trade tensions. The BOJ revised its growth projection for the fiscal year ending March 2026 from 1.1% to 0.5%, and for the',\n",
       "   \"Overall, while Japan's economy faces headwinds from external trade pressures and domestic structural issues, indicators such as wage growth and consumer spending provide a foundation for cautious optimism. The BOJ's flexible policy stance aims to\",\n",
       "   'yen against the dollar, reflecting investor optimism. Despite these positive indicators, challenges persist, including concerns over export performance and demographic issues such as an aging population. The Bank of Japan remains cautiously'],\n",
       "  ['In the financial markets, the Nikkei 225 index has shown strength, with projections suggesting it could reach 45,400 by the end of 2025, supported by corporate share buybacks and a gradual return of foreign investors. The Japanese yen has',\n",
       "   'to an eight-month high, as investors hoped for a recovery from the three quarters of contraction seen from April 2004 on. The Nikkei 225 index ended the day up 0.7% at 11,740.60 points, with the yen strengthening 0.7% against the dollar to 104.53',\n",
       "   'rebound from previous contractions. Retail sales have shown consistent growth, rising by 3.9% year-on-year in January, marking the 36th consecutive month of expansion. The Nikkei 225 index has responded positively, reaching levels around 11,740.60',\n",
       "   'positively, reaching levels around 11,740.60 points, with projections suggesting it could climb to 45,400 by the end of 2025. The Japanese yen has experienced fluctuations, strengthening to 104.53 yen against the dollar, reflecting investor'],\n",
       "  ['return of foreign investors. The Japanese yen has experienced fluctuations, recently trading at approximately 104.53 against the U.S. dollar, reflecting investor sentiment and monetary policy expectations.',\n",
       "   'positively, reaching levels around 11,740.60 points, with projections suggesting it could climb to 45,400 by the end of 2025. The Japanese yen has experienced fluctuations, strengthening to 104.53 yen against the dollar, reflecting investor',\n",
       "   'yen against the dollar, reflecting investor optimism. Despite these positive indicators, challenges persist, including concerns over export performance and demographic issues such as an aging population. The Bank of Japan remains cautiously',\n",
       "   \"strengthening 0.7% against the dollar to 104.53 yen. Weaker exports, normally the engine for Japan's economy in the face of weak domestic demand, had helped trigger a 0.1% contraction in the final three months of last year after two previous\"],\n",
       "  [\"As of mid-2025, Japan's economy is experiencing a nuanced recovery characterized by moderate growth and persistent challenges. In the first quarter, real GDP contracted by 0.1%, influenced by a 1.1% month-over-month decline in industrial production\",\n",
       "   \"As of early 2025, Japan's economy exhibits signs of moderate recovery, with industrial production increasing by 2.3% month-over-month in February, slightly below initial estimates but indicating a rebound from previous contractions. Retail sales\",\n",
       "   \"strengthening 0.7% against the dollar to 104.53 yen. Weaker exports, normally the engine for Japan's economy in the face of weak domestic demand, had helped trigger a 0.1% contraction in the final three months of last year after two previous\",\n",
       "   'yen against the dollar, reflecting investor optimism. Despite these positive indicators, challenges persist, including concerns over export performance and demographic issues such as an aging population. The Bank of Japan remains cautiously']],\n",
       " 'reference': [\"Japan's industrial production grew by 2.3% in February 2025, indicating a moderate recovery after previous declines.\",\n",
       "  'Retail sales in Japan rose by 3.9% year-on-year in January 2025, marking the 36th consecutive month of growth.',\n",
       "  'The Bank of Japan stated that there is a low risk of serious recession, but warned of uncertainties and revised growth forecasts downward.',\n",
       "  'The Nikkei 225 index has performed strongly, reaching around 11,740 points and is projected to climb to 45,400 by the end of 2025.',\n",
       "  'The Japanese yen has strengthened to around 104.53 against the US dollar, reflecting renewed investor optimism.',\n",
       "  \"Japan's economy continues to face challenges such as weak exports, trade tensions, and an aging population despite recent growth.\"]}"
      ]
     },
     "execution_count": 28,
     "metadata": {},
     "output_type": "execute_result"
    }
   ],
   "source": [
    "data"
   ]
  },
  {
   "cell_type": "code",
   "execution_count": 29,
   "id": "141b0d2c",
   "metadata": {},
   "outputs": [
    {
     "data": {
      "text/html": [
       "<div>\n",
       "<style scoped>\n",
       "    .dataframe tbody tr th:only-of-type {\n",
       "        vertical-align: middle;\n",
       "    }\n",
       "\n",
       "    .dataframe tbody tr th {\n",
       "        vertical-align: top;\n",
       "    }\n",
       "\n",
       "    .dataframe thead th {\n",
       "        text-align: right;\n",
       "    }\n",
       "</style>\n",
       "<table border=\"1\" class=\"dataframe\">\n",
       "  <thead>\n",
       "    <tr style=\"text-align: right;\">\n",
       "      <th></th>\n",
       "      <th>question</th>\n",
       "      <th>answer</th>\n",
       "      <th>contexts</th>\n",
       "      <th>reference</th>\n",
       "    </tr>\n",
       "  </thead>\n",
       "  <tbody>\n",
       "    <tr>\n",
       "      <th>0</th>\n",
       "      <td>What is the current status of Japan's industri...</td>\n",
       "      <td>As of mid-2025, Japan's industrial production ...</td>\n",
       "      <td>[As of early 2025, Japan's economy exhibits si...</td>\n",
       "      <td>Japan's industrial production grew by 2.3% in ...</td>\n",
       "    </tr>\n",
       "    <tr>\n",
       "      <th>1</th>\n",
       "      <td>How have retail sales in Japan performed recen...</td>\n",
       "      <td>Retail sales in Japan have shown consistent gr...</td>\n",
       "      <td>[As of early 2025, Japan's economy exhibits si...</td>\n",
       "      <td>Retail sales in Japan rose by 3.9% year-on-yea...</td>\n",
       "    </tr>\n",
       "    <tr>\n",
       "      <th>2</th>\n",
       "      <td>What did the Bank of Japan say about the econo...</td>\n",
       "      <td>The Bank of Japan remains cautiously optimisti...</td>\n",
       "      <td>[population. The Bank of Japan remains cautiou...</td>\n",
       "      <td>The Bank of Japan stated that there is a low r...</td>\n",
       "    </tr>\n",
       "    <tr>\n",
       "      <th>3</th>\n",
       "      <td>What has been the performance of the Nikkei 22...</td>\n",
       "      <td>The Nikkei 225 index has shown strength, reach...</td>\n",
       "      <td>[In the financial markets, the Nikkei 225 inde...</td>\n",
       "      <td>The Nikkei 225 index has performed strongly, r...</td>\n",
       "    </tr>\n",
       "    <tr>\n",
       "      <th>4</th>\n",
       "      <td>How has the Japanese yen moved in recent times?</td>\n",
       "      <td>The Japanese yen has experienced fluctuations,...</td>\n",
       "      <td>[return of foreign investors. The Japanese yen...</td>\n",
       "      <td>The Japanese yen has strengthened to around 10...</td>\n",
       "    </tr>\n",
       "    <tr>\n",
       "      <th>5</th>\n",
       "      <td>What are some challenges Japan's economy is st...</td>\n",
       "      <td>Japan's economy is still facing challenges inc...</td>\n",
       "      <td>[As of mid-2025, Japan's economy is experienci...</td>\n",
       "      <td>Japan's economy continues to face challenges s...</td>\n",
       "    </tr>\n",
       "  </tbody>\n",
       "</table>\n",
       "</div>"
      ],
      "text/plain": [
       "                                            question  \\\n",
       "0  What is the current status of Japan's industri...   \n",
       "1  How have retail sales in Japan performed recen...   \n",
       "2  What did the Bank of Japan say about the econo...   \n",
       "3  What has been the performance of the Nikkei 22...   \n",
       "4    How has the Japanese yen moved in recent times?   \n",
       "5  What are some challenges Japan's economy is st...   \n",
       "\n",
       "                                              answer  \\\n",
       "0  As of mid-2025, Japan's industrial production ...   \n",
       "1  Retail sales in Japan have shown consistent gr...   \n",
       "2  The Bank of Japan remains cautiously optimisti...   \n",
       "3  The Nikkei 225 index has shown strength, reach...   \n",
       "4  The Japanese yen has experienced fluctuations,...   \n",
       "5  Japan's economy is still facing challenges inc...   \n",
       "\n",
       "                                            contexts  \\\n",
       "0  [As of early 2025, Japan's economy exhibits si...   \n",
       "1  [As of early 2025, Japan's economy exhibits si...   \n",
       "2  [population. The Bank of Japan remains cautiou...   \n",
       "3  [In the financial markets, the Nikkei 225 inde...   \n",
       "4  [return of foreign investors. The Japanese yen...   \n",
       "5  [As of mid-2025, Japan's economy is experienci...   \n",
       "\n",
       "                                           reference  \n",
       "0  Japan's industrial production grew by 2.3% in ...  \n",
       "1  Retail sales in Japan rose by 3.9% year-on-yea...  \n",
       "2  The Bank of Japan stated that there is a low r...  \n",
       "3  The Nikkei 225 index has performed strongly, r...  \n",
       "4  The Japanese yen has strengthened to around 10...  \n",
       "5  Japan's economy continues to face challenges s...  "
      ]
     },
     "execution_count": 29,
     "metadata": {},
     "output_type": "execute_result"
    }
   ],
   "source": [
    "import pandas as pd\n",
    "pd.DataFrame(data)"
   ]
  },
  {
   "cell_type": "code",
   "execution_count": 30,
   "id": "9ed1dbf1",
   "metadata": {},
   "outputs": [],
   "source": [
    "from datasets import Dataset\n",
    "dataset=Dataset.from_dict(data)"
   ]
  },
  {
   "cell_type": "code",
   "execution_count": 31,
   "id": "6164aa85",
   "metadata": {},
   "outputs": [
    {
     "data": {
      "text/plain": [
       "Dataset({\n",
       "    features: ['question', 'answer', 'contexts', 'reference'],\n",
       "    num_rows: 6\n",
       "})"
      ]
     },
     "execution_count": 31,
     "metadata": {},
     "output_type": "execute_result"
    }
   ],
   "source": [
    "dataset"
   ]
  },
  {
   "cell_type": "code",
   "execution_count": 32,
   "id": "e7e63317",
   "metadata": {},
   "outputs": [],
   "source": [
    "from ragas import evaluate\n",
    "from ragas.metrics import (\n",
    "    faithfulness,\n",
    "    answer_relevancy,\n",
    "    context_recall,\n",
    "    context_precision,\n",
    ")"
   ]
  },
  {
   "cell_type": "code",
   "execution_count": 33,
   "id": "ed38cde0",
   "metadata": {},
   "outputs": [
    {
     "name": "stderr",
     "output_type": "stream",
     "text": [
      "Evaluating: 100%|██████████| 24/24 [00:20<00:00,  1.15it/s]\n"
     ]
    }
   ],
   "source": [
    "result=evaluate(\n",
    "    dataset=dataset,\n",
    "    metrics=[context_precision,context_recall,faithfulness,answer_relevancy]\n",
    ")"
   ]
  },
  {
   "cell_type": "code",
   "execution_count": 34,
   "id": "c9108f3a",
   "metadata": {},
   "outputs": [
    {
     "data": {
      "text/plain": [
       "{'context_precision': 0.7037, 'context_recall': 0.7778, 'faithfulness': 1.0000, 'answer_relevancy': 0.6250}"
      ]
     },
     "execution_count": 34,
     "metadata": {},
     "output_type": "execute_result"
    }
   ],
   "source": [
    "result"
   ]
  },
  {
   "cell_type": "code",
   "execution_count": 35,
   "id": "7ca9c6fb",
   "metadata": {},
   "outputs": [],
   "source": [
    "df=result.to_pandas()"
   ]
  },
  {
   "cell_type": "code",
   "execution_count": 36,
   "id": "019e041c",
   "metadata": {},
   "outputs": [
    {
     "data": {
      "text/html": [
       "<div>\n",
       "<style scoped>\n",
       "    .dataframe tbody tr th:only-of-type {\n",
       "        vertical-align: middle;\n",
       "    }\n",
       "\n",
       "    .dataframe tbody tr th {\n",
       "        vertical-align: top;\n",
       "    }\n",
       "\n",
       "    .dataframe thead th {\n",
       "        text-align: right;\n",
       "    }\n",
       "</style>\n",
       "<table border=\"1\" class=\"dataframe\">\n",
       "  <thead>\n",
       "    <tr style=\"text-align: right;\">\n",
       "      <th></th>\n",
       "      <th>user_input</th>\n",
       "      <th>retrieved_contexts</th>\n",
       "      <th>response</th>\n",
       "      <th>reference</th>\n",
       "      <th>context_precision</th>\n",
       "      <th>context_recall</th>\n",
       "      <th>faithfulness</th>\n",
       "      <th>answer_relevancy</th>\n",
       "    </tr>\n",
       "  </thead>\n",
       "  <tbody>\n",
       "    <tr>\n",
       "      <th>0</th>\n",
       "      <td>What is the current status of Japan's industri...</td>\n",
       "      <td>[As of early 2025, Japan's economy exhibits si...</td>\n",
       "      <td>As of mid-2025, Japan's industrial production ...</td>\n",
       "      <td>Japan's industrial production grew by 2.3% in ...</td>\n",
       "      <td>1.000000</td>\n",
       "      <td>1.000000</td>\n",
       "      <td>1.0</td>\n",
       "      <td>0.903890</td>\n",
       "    </tr>\n",
       "    <tr>\n",
       "      <th>1</th>\n",
       "      <td>How have retail sales in Japan performed recen...</td>\n",
       "      <td>[As of early 2025, Japan's economy exhibits si...</td>\n",
       "      <td>Retail sales in Japan have shown consistent gr...</td>\n",
       "      <td>Retail sales in Japan rose by 3.9% year-on-yea...</td>\n",
       "      <td>0.500000</td>\n",
       "      <td>1.000000</td>\n",
       "      <td>1.0</td>\n",
       "      <td>0.959404</td>\n",
       "    </tr>\n",
       "    <tr>\n",
       "      <th>2</th>\n",
       "      <td>What did the Bank of Japan say about the econo...</td>\n",
       "      <td>[population. The Bank of Japan remains cautiou...</td>\n",
       "      <td>The Bank of Japan remains cautiously optimisti...</td>\n",
       "      <td>The Bank of Japan stated that there is a low r...</td>\n",
       "      <td>0.500000</td>\n",
       "      <td>0.666667</td>\n",
       "      <td>1.0</td>\n",
       "      <td>0.000000</td>\n",
       "    </tr>\n",
       "    <tr>\n",
       "      <th>3</th>\n",
       "      <td>What has been the performance of the Nikkei 22...</td>\n",
       "      <td>[In the financial markets, the Nikkei 225 inde...</td>\n",
       "      <td>The Nikkei 225 index has shown strength, reach...</td>\n",
       "      <td>The Nikkei 225 index has performed strongly, r...</td>\n",
       "      <td>0.805556</td>\n",
       "      <td>1.000000</td>\n",
       "      <td>1.0</td>\n",
       "      <td>0.913195</td>\n",
       "    </tr>\n",
       "    <tr>\n",
       "      <th>4</th>\n",
       "      <td>How has the Japanese yen moved in recent times?</td>\n",
       "      <td>[return of foreign investors. The Japanese yen...</td>\n",
       "      <td>The Japanese yen has experienced fluctuations,...</td>\n",
       "      <td>The Japanese yen has strengthened to around 10...</td>\n",
       "      <td>1.000000</td>\n",
       "      <td>1.000000</td>\n",
       "      <td>1.0</td>\n",
       "      <td>0.000000</td>\n",
       "    </tr>\n",
       "    <tr>\n",
       "      <th>5</th>\n",
       "      <td>What are some challenges Japan's economy is st...</td>\n",
       "      <td>[As of mid-2025, Japan's economy is experienci...</td>\n",
       "      <td>Japan's economy is still facing challenges inc...</td>\n",
       "      <td>Japan's economy continues to face challenges s...</td>\n",
       "      <td>0.416667</td>\n",
       "      <td>0.000000</td>\n",
       "      <td>1.0</td>\n",
       "      <td>0.973773</td>\n",
       "    </tr>\n",
       "  </tbody>\n",
       "</table>\n",
       "</div>"
      ],
      "text/plain": [
       "                                          user_input  \\\n",
       "0  What is the current status of Japan's industri...   \n",
       "1  How have retail sales in Japan performed recen...   \n",
       "2  What did the Bank of Japan say about the econo...   \n",
       "3  What has been the performance of the Nikkei 22...   \n",
       "4    How has the Japanese yen moved in recent times?   \n",
       "5  What are some challenges Japan's economy is st...   \n",
       "\n",
       "                                  retrieved_contexts  \\\n",
       "0  [As of early 2025, Japan's economy exhibits si...   \n",
       "1  [As of early 2025, Japan's economy exhibits si...   \n",
       "2  [population. The Bank of Japan remains cautiou...   \n",
       "3  [In the financial markets, the Nikkei 225 inde...   \n",
       "4  [return of foreign investors. The Japanese yen...   \n",
       "5  [As of mid-2025, Japan's economy is experienci...   \n",
       "\n",
       "                                            response  \\\n",
       "0  As of mid-2025, Japan's industrial production ...   \n",
       "1  Retail sales in Japan have shown consistent gr...   \n",
       "2  The Bank of Japan remains cautiously optimisti...   \n",
       "3  The Nikkei 225 index has shown strength, reach...   \n",
       "4  The Japanese yen has experienced fluctuations,...   \n",
       "5  Japan's economy is still facing challenges inc...   \n",
       "\n",
       "                                           reference  context_precision  \\\n",
       "0  Japan's industrial production grew by 2.3% in ...           1.000000   \n",
       "1  Retail sales in Japan rose by 3.9% year-on-yea...           0.500000   \n",
       "2  The Bank of Japan stated that there is a low r...           0.500000   \n",
       "3  The Nikkei 225 index has performed strongly, r...           0.805556   \n",
       "4  The Japanese yen has strengthened to around 10...           1.000000   \n",
       "5  Japan's economy continues to face challenges s...           0.416667   \n",
       "\n",
       "   context_recall  faithfulness  answer_relevancy  \n",
       "0        1.000000           1.0          0.903890  \n",
       "1        1.000000           1.0          0.959404  \n",
       "2        0.666667           1.0          0.000000  \n",
       "3        1.000000           1.0          0.913195  \n",
       "4        1.000000           1.0          0.000000  \n",
       "5        0.000000           1.0          0.973773  "
      ]
     },
     "execution_count": 36,
     "metadata": {},
     "output_type": "execute_result"
    }
   ],
   "source": [
    "df"
   ]
  },
  {
   "cell_type": "code",
   "execution_count": 37,
   "id": "1003078f",
   "metadata": {},
   "outputs": [
    {
     "data": {
      "text/plain": [
       "user_input            What is the current status of Japan's industri...\n",
       "retrieved_contexts    [As of early 2025, Japan's economy exhibits si...\n",
       "response              As of mid-2025, Japan's industrial production ...\n",
       "reference             Japan's industrial production grew by 2.3% in ...\n",
       "context_precision                                                   1.0\n",
       "context_recall                                                      1.0\n",
       "faithfulness                                                        1.0\n",
       "answer_relevancy                                                0.90389\n",
       "Name: 0, dtype: object"
      ]
     },
     "execution_count": 37,
     "metadata": {},
     "output_type": "execute_result"
    }
   ],
   "source": [
    "df.iloc[0,:]"
   ]
  },
  {
   "cell_type": "code",
   "execution_count": null,
   "id": "1e192ce8",
   "metadata": {},
   "outputs": [],
   "source": []
  },
  {
   "cell_type": "code",
   "execution_count": 38,
   "id": "0a8d7b81",
   "metadata": {},
   "outputs": [
    {
     "data": {
      "text/plain": [
       "\"What is the current status of Japan's industrial production?\""
      ]
     },
     "execution_count": 38,
     "metadata": {},
     "output_type": "execute_result"
    }
   ],
   "source": [
    "#data\n",
    "#this is my actual query\n",
    "df.iloc[0,:].user_input\t"
   ]
  },
  {
   "cell_type": "code",
   "execution_count": 39,
   "id": "dc714a82",
   "metadata": {},
   "outputs": [
    {
     "data": {
      "text/plain": [
       "[\"As of early 2025, Japan's economy exhibits signs of moderate recovery, with industrial production increasing by 2.3% month-over-month in February, slightly below initial estimates but indicating a rebound from previous contractions. Retail sales\",\n",
       " \"Industrial revival hope for Japan\\n\\nJapanese industry is growing faster than expected, boosting hopes that the country's retreat back into recession is over.\",\n",
       " \"As of mid-2025, Japan's economy is experiencing a nuanced recovery characterized by moderate growth and persistent challenges. In the first quarter, real GDP contracted by 0.1%, influenced by a 1.1% month-over-month decline in industrial production\",\n",
       " \"Japan's last four year GDP:\\n\\nYear\\tGDP\\n2022\\t$4,256.41B\\n2021\\t$5,034.62B\\n2020\\t$5,055.59B\\n2019\\t$5,117.99B\"]"
      ]
     },
     "execution_count": 39,
     "metadata": {},
     "output_type": "execute_result"
    }
   ],
   "source": [
    "#predicted\n",
    "#generation of the model\n",
    "df.iloc[0,:].retrieved_contexts\t"
   ]
  },
  {
   "cell_type": "code",
   "execution_count": 40,
   "id": "5a06a94a",
   "metadata": {},
   "outputs": [
    {
     "data": {
      "text/plain": [
       "\"As of mid-2025, Japan's industrial production experienced a 1.1% month-over-month decline. However, earlier in 2025, industrial production had increased by 2.3% month-over-month in February, indicating a rebound from previous contractions.\""
      ]
     },
     "execution_count": 40,
     "metadata": {},
     "output_type": "execute_result"
    }
   ],
   "source": [
    "#actual\n",
    "#actual answer(manually we have written this answer)(this could be llm generated)\n",
    "df.iloc[0,:].response"
   ]
  },
  {
   "cell_type": "code",
   "execution_count": 41,
   "id": "acaef4f4",
   "metadata": {},
   "outputs": [
    {
     "data": {
      "text/plain": [
       "\"Japan's industrial production grew by 2.3% in February 2025, indicating a moderate recovery after previous declines.\""
      ]
     },
     "execution_count": 41,
     "metadata": {},
     "output_type": "execute_result"
    }
   ],
   "source": [
    "#average value\n",
    "#retrieval result(context)\n",
    "df.iloc[0,:].reference\t"
   ]
  },
  {
   "cell_type": "code",
   "execution_count": 42,
   "id": "8dcc4fb8",
   "metadata": {},
   "outputs": [],
   "source": [
    "#rouge summrization\n",
    "#bleu translation"
   ]
  },
  {
   "cell_type": "code",
   "execution_count": 43,
   "id": "d6022434",
   "metadata": {},
   "outputs": [
    {
     "name": "stderr",
     "output_type": "stream",
     "text": [
      "Evaluating: 100%|██████████| 2/2 [00:00<00:00,  2.18it/s]\n"
     ]
    },
    {
     "data": {
      "text/html": [
       "<div>\n",
       "<style scoped>\n",
       "    .dataframe tbody tr th:only-of-type {\n",
       "        vertical-align: middle;\n",
       "    }\n",
       "\n",
       "    .dataframe tbody tr th {\n",
       "        vertical-align: top;\n",
       "    }\n",
       "\n",
       "    .dataframe thead th {\n",
       "        text-align: right;\n",
       "    }\n",
       "</style>\n",
       "<table border=\"1\" class=\"dataframe\">\n",
       "  <thead>\n",
       "    <tr style=\"text-align: right;\">\n",
       "      <th></th>\n",
       "      <th>user_input</th>\n",
       "      <th>response</th>\n",
       "      <th>reference</th>\n",
       "      <th>semantic_similarity</th>\n",
       "    </tr>\n",
       "  </thead>\n",
       "  <tbody>\n",
       "    <tr>\n",
       "      <th>0</th>\n",
       "      <td>When was the first super bowl?</td>\n",
       "      <td>The first superbowl was held on Jan 15, 1967</td>\n",
       "      <td>The first superbowl was held on January 15, 1967</td>\n",
       "      <td>0.996380</td>\n",
       "    </tr>\n",
       "    <tr>\n",
       "      <th>1</th>\n",
       "      <td>Who won the most super bowls?</td>\n",
       "      <td>The most super bowls have been won by The New ...</td>\n",
       "      <td>The New England Patriots have won the Super Bo...</td>\n",
       "      <td>0.924222</td>\n",
       "    </tr>\n",
       "  </tbody>\n",
       "</table>\n",
       "</div>"
      ],
      "text/plain": [
       "                       user_input  \\\n",
       "0  When was the first super bowl?   \n",
       "1   Who won the most super bowls?   \n",
       "\n",
       "                                            response  \\\n",
       "0       The first superbowl was held on Jan 15, 1967   \n",
       "1  The most super bowls have been won by The New ...   \n",
       "\n",
       "                                           reference  semantic_similarity  \n",
       "0   The first superbowl was held on January 15, 1967             0.996380  \n",
       "1  The New England Patriots have won the Super Bo...             0.924222  "
      ]
     },
     "execution_count": 43,
     "metadata": {},
     "output_type": "execute_result"
    }
   ],
   "source": [
    "from datasets import Dataset\n",
    "from ragas.metrics import answer_similarity\n",
    "from ragas import evaluate\n",
    "\n",
    "\n",
    "data_samples = {\n",
    "    'question': ['When was the first super bowl?', 'Who won the most super bowls?'],\n",
    "    'answer': ['The first superbowl was held on Jan 15, 1967', 'The most super bowls have been won by The New England Patriots'],\n",
    "    'ground_truth': ['The first superbowl was held on January 15, 1967', 'The New England Patriots have won the Super Bowl a record six times']\n",
    "}\n",
    "dataset = Dataset.from_dict(data_samples)\n",
    "score = evaluate(dataset,metrics=[answer_similarity])\n",
    "score.to_pandas()"
   ]
  },
  {
   "cell_type": "code",
   "execution_count": 44,
   "id": "1e08f1d9",
   "metadata": {},
   "outputs": [
    {
     "name": "stderr",
     "output_type": "stream",
     "text": [
      "Evaluating: 100%|██████████| 2/2 [00:05<00:00,  2.74s/it]\n"
     ]
    },
    {
     "data": {
      "text/html": [
       "<div>\n",
       "<style scoped>\n",
       "    .dataframe tbody tr th:only-of-type {\n",
       "        vertical-align: middle;\n",
       "    }\n",
       "\n",
       "    .dataframe tbody tr th {\n",
       "        vertical-align: top;\n",
       "    }\n",
       "\n",
       "    .dataframe thead th {\n",
       "        text-align: right;\n",
       "    }\n",
       "</style>\n",
       "<table border=\"1\" class=\"dataframe\">\n",
       "  <thead>\n",
       "    <tr style=\"text-align: right;\">\n",
       "      <th></th>\n",
       "      <th>user_input</th>\n",
       "      <th>response</th>\n",
       "      <th>reference</th>\n",
       "      <th>answer_correctness</th>\n",
       "    </tr>\n",
       "  </thead>\n",
       "  <tbody>\n",
       "    <tr>\n",
       "      <th>0</th>\n",
       "      <td>When was the first super bowl?</td>\n",
       "      <td>The first superbowl was held on Jan 15, 1967</td>\n",
       "      <td>The first superbowl was held on January 15, 1967</td>\n",
       "      <td>0.999104</td>\n",
       "    </tr>\n",
       "    <tr>\n",
       "      <th>1</th>\n",
       "      <td>Who won the most super bowls?</td>\n",
       "      <td>The most super bowls have been won by The New ...</td>\n",
       "      <td>The New England Patriots have won the Super Bo...</td>\n",
       "      <td>0.981055</td>\n",
       "    </tr>\n",
       "  </tbody>\n",
       "</table>\n",
       "</div>"
      ],
      "text/plain": [
       "                       user_input  \\\n",
       "0  When was the first super bowl?   \n",
       "1   Who won the most super bowls?   \n",
       "\n",
       "                                            response  \\\n",
       "0       The first superbowl was held on Jan 15, 1967   \n",
       "1  The most super bowls have been won by The New ...   \n",
       "\n",
       "                                           reference  answer_correctness  \n",
       "0   The first superbowl was held on January 15, 1967            0.999104  \n",
       "1  The New England Patriots have won the Super Bo...            0.981055  "
      ]
     },
     "execution_count": 44,
     "metadata": {},
     "output_type": "execute_result"
    }
   ],
   "source": [
    "from datasets import Dataset\n",
    "from ragas.metrics import faithfulness, answer_correctness\n",
    "from ragas import evaluate\n",
    "\n",
    "data_samples = {\n",
    "    'question': ['When was the first super bowl?', 'Who won the most super bowls?'],\n",
    "    'answer': ['The first superbowl was held on Jan 15, 1967', 'The most super bowls have been won by The New England Patriots'],\n",
    "    'ground_truth': ['The first superbowl was held on January 15, 1967', 'The New England Patriots have won the Super Bowl a record six times']\n",
    "}\n",
    "dataset = Dataset.from_dict(data_samples)\n",
    "score = evaluate(dataset,metrics=[answer_correctness])\n",
    "score.to_pandas()"
   ]
  },
  {
   "cell_type": "code",
   "execution_count": null,
   "id": "eb4edd36",
   "metadata": {},
   "outputs": [],
   "source": []
  }
 ],
 "metadata": {
  "kernelspec": {
   "display_name": "venv",
   "language": "python",
   "name": "python3"
  },
  "language_info": {
   "codemirror_mode": {
    "name": "ipython",
    "version": 3
   },
   "file_extension": ".py",
   "mimetype": "text/x-python",
   "name": "python",
   "nbconvert_exporter": "python",
   "pygments_lexer": "ipython3",
   "version": "3.10.0"
  }
 },
 "nbformat": 4,
 "nbformat_minor": 5
}
